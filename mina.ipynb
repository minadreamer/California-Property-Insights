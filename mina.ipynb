{
 "cells": [
  {
   "cell_type": "code",
   "execution_count": null,
   "metadata": {},
   "outputs": [],
   "source": [
    "# Import necessary libraries below\n",
    "import pandas as pd\n",
    "import numpy as np\n",
    "import matplotlib.pyplot as plt\n",
    "%matplotlib inline\n",
    "\n",
    "import seaborn as sns \n",
    "sns.set(style='darkgrid')\n",
    "sns.set_context('poster')\n",
    "\n",
    "from datetime import datetime\n",
    "from scipy import stats\n",
    "from sklearn.linear_model import LogisticRegression\n",
    "\n",
    "import folium\n",
    "from folium import plugins\n",
    "from folium.plugins import HeatMap\n",
    "from folium.plugins import MarkerCluster"
   ]
  },
  {
   "cell_type": "code",
   "execution_count": null,
   "metadata": {},
   "outputs": [],
   "source": [
    "# import properties_2016 df\n",
    "df_properties = pd.read_csv('properties_2016.csv')\n",
    "df_properties.head()"
   ]
  },
  {
   "cell_type": "code",
   "execution_count": null,
   "metadata": {},
   "outputs": [],
   "source": [
    "# import train_2016 df\n",
    "df_train = pd.read_csv('train_2016_v2.csv')\n",
    "df_train.head()"
   ]
  },
  {
   "cell_type": "code",
   "execution_count": null,
   "metadata": {},
   "outputs": [],
   "source": [
    "# check shape \n",
    "print(df_properties.shape)\n",
    "print(df_train.shape)"
   ]
  },
  {
   "cell_type": "code",
   "execution_count": null,
   "metadata": {},
   "outputs": [],
   "source": [
    "# merge df and df_train\n",
    "df = pd.merge(df_train, df_properties, on='parcelid')\n",
    "df.head()"
   ]
  },
  {
   "cell_type": "code",
   "execution_count": null,
   "metadata": {},
   "outputs": [],
   "source": [
    "## rearrange df\n",
    "#df.tail().transpose()"
   ]
  },
  {
   "cell_type": "code",
   "execution_count": null,
   "metadata": {},
   "outputs": [],
   "source": [
    "df.info()"
   ]
  },
  {
   "cell_type": "code",
   "execution_count": null,
   "metadata": {},
   "outputs": [],
   "source": [
    "df.describe()"
   ]
  },
  {
   "cell_type": "code",
   "execution_count": null,
   "metadata": {},
   "outputs": [],
   "source": [
    "# correlation heatmap\n",
    "plt.figure(figsize=(30, 20))\n",
    "sns.heatmap(data = df.corr())\n",
    "plt.show()"
   ]
  },
  {
   "cell_type": "code",
   "execution_count": null,
   "metadata": {},
   "outputs": [],
   "source": [
    "# create df for missing values\n",
    "# percentage of NaN values\n",
    "df_missing = df.isna().mean().round(4) * 100\n",
    "df_missing"
   ]
  },
  {
   "cell_type": "code",
   "execution_count": null,
   "metadata": {},
   "outputs": [],
   "source": [
    "# prepare to plot df_missing\n",
    "df_missing = df.isna().sum(axis=0).reset_index()\n",
    "df_missing.columns = ['column_name', 'missing_count']\n",
    "df_missing = df_missing.loc[df_missing['missing_count']>0]\n",
    "df_missing = df_missing.sort_values(by='missing_count')"
   ]
  },
  {
   "cell_type": "code",
   "execution_count": null,
   "metadata": {},
   "outputs": [],
   "source": [
    "# plot df_missing\n",
    "fig, ax = plt.subplots(figsize=(20, 30))\n",
    "sns.barplot(x='missing_count', y='column_name', data = df_missing)\n",
    "ax.set_xlabel('Count of NaN values')\n",
    "ax.set_title('Number of NaN values in each column')"
   ]
  },
  {
   "cell_type": "code",
   "execution_count": null,
   "metadata": {},
   "outputs": [],
   "source": [
    "# plot with different color palette\n",
    "fig, ax = plt.subplots(figsize=(20, 30))\n",
    "sns.barplot(x='missing_count', y='column_name', palette='ch:.25', data = df_missing)\n",
    "ax.set_xlabel('Count of NaN values')\n",
    "ax.set_title('Number of NaN values in each column')"
   ]
  },
  {
   "cell_type": "code",
   "execution_count": null,
   "metadata": {},
   "outputs": [],
   "source": [
    "df_missing = (df.isnull().sum()/len(df)).reset_index()\n",
    "df_missing.columns = ['column','proportion']\n",
    "df_missing = df_missing.sort_values(by = 'proportion')\n",
    "print(df_missing)\n",
    "missingvaluescols = df_missing[df_missing['proportion'] > 0.50].column.tolist()\n",
    "df = df.drop(missingvaluescols, axis=1)\n",
    "df.head()"
   ]
  },
  {
   "cell_type": "code",
   "execution_count": null,
   "metadata": {},
   "outputs": [],
   "source": [
    "df.dtypes"
   ]
  },
  {
   "cell_type": "code",
   "execution_count": null,
   "metadata": {},
   "outputs": [],
   "source": [
    "df_float = df.drop(['parcelid','transactiondate', 'propertycountylandusecode', 'propertyzoningdesc'], axis=1)\n",
    "df_float.dtypes"
   ]
  },
  {
   "cell_type": "code",
   "execution_count": null,
   "metadata": {},
   "outputs": [],
   "source": [
    "# correlation heatmap\n",
    "sns.set_context('poster')\n",
    "plt.figure(figsize=(40, 30))\n",
    "sns.heatmap(data = df_float.corr())\n",
    "plt.show()"
   ]
  },
  {
   "cell_type": "code",
   "execution_count": null,
   "metadata": {},
   "outputs": [],
   "source": [
    "# check duplicates\n",
    "duplicates = df[df.duplicated()]\n",
    "print(len(duplicates))\n",
    "duplicates.head()"
   ]
  },
  {
   "cell_type": "code",
   "execution_count": null,
   "metadata": {},
   "outputs": [],
   "source": [
    "# plot logerror\n",
    "plt.figure(figsize=(20,10))\n",
    "sns.distplot(df.logerror.values, bins=50, color='magenta', kde=False)\n",
    "plt.xlabel('logerror')\n",
    "plt.show()"
   ]
  },
  {
   "cell_type": "code",
   "execution_count": null,
   "metadata": {},
   "outputs": [],
   "source": [
    "df.columns"
   ]
  },
  {
   "cell_type": "code",
   "execution_count": null,
   "metadata": {},
   "outputs": [],
   "source": [
    "# convert transactiondate to datetime\n",
    "df.transactiondate = pd.to_datetime(df.transactiondate)"
   ]
  },
  {
   "cell_type": "code",
   "execution_count": null,
   "metadata": {},
   "outputs": [],
   "source": [
    "# plot transactions by month\n",
    "df['transaction_month'] = df['transactiondate'].dt.month\n",
    "month = df['transaction_month'].value_counts()\n",
    "plt.figure(figsize=(20, 10))\n",
    "sns.barplot(month.index, month.values, alpha=0.8)\n",
    "plt.xticks(rotation='vertical')\n",
    "plt.xlabel('Month of transaction')\n",
    "plt.ylabel('Number of transactions')\n",
    "plt.show()"
   ]
  },
  {
   "cell_type": "code",
   "execution_count": null,
   "metadata": {},
   "outputs": [],
   "source": [
    "df_type = df.dtypes.reset_index()\n",
    "df_type.columns=['Count', 'Column Type']\n",
    "df_type.head()"
   ]
  },
  {
   "cell_type": "code",
   "execution_count": null,
   "metadata": {},
   "outputs": [],
   "source": [
    "df_type.groupby('Column Type').aggregate('count').reset_index()"
   ]
  },
  {
   "cell_type": "code",
   "execution_count": null,
   "metadata": {},
   "outputs": [],
   "source": [
    "df.latitude.head()"
   ]
  },
  {
   "cell_type": "code",
   "execution_count": null,
   "metadata": {},
   "outputs": [],
   "source": [
    "df.longitude.head()"
   ]
  },
  {
   "cell_type": "code",
   "execution_count": null,
   "metadata": {},
   "outputs": [],
   "source": [
    "# check if we have a valid lat and long (choose the first row)\n",
    "new_map = df\n",
    "len(df)\n",
    "new_map = folium.Map(location=[34.2809, -118.488],\n",
    "                        zoom_start=13,\n",
    "                        tiles='openstreetmap')\n",
    "new_map"
   ]
  },
  {
   "cell_type": "code",
   "execution_count": null,
   "metadata": {},
   "outputs": [],
   "source": [
    "# create df for mapping\n",
    "df_geo = df[['latitude', 'longitude', 'logerror']]\n",
    "df_geo.head()"
   ]
  },
  {
   "cell_type": "code",
   "execution_count": null,
   "metadata": {},
   "outputs": [],
   "source": [
    "df.propertylandusetypeid.unique()"
   ]
  },
  {
   "cell_type": "code",
   "execution_count": null,
   "metadata": {},
   "outputs": [],
   "source": [
    "len(df.propertylandusetypeid)"
   ]
  },
  {
   "cell_type": "code",
   "execution_count": null,
   "metadata": {},
   "outputs": [],
   "source": [
    "print(df_properties.architecturalstyletypeid.unique())\n",
    "\n",
    "df_properties.loc[df_properties['architecturalstyletypeid'] == 2]['yearbuilt']"
   ]
  },
  {
   "cell_type": "code",
   "execution_count": null,
   "metadata": {},
   "outputs": [],
   "source": [
    "# the zillow data dictionary says the have \"Latitude of the middle of the parcel \n",
    "# multiplied by 10e6\", so we have to normalize it to be readable by Folium\n",
    "df_geo['longitude']/=1e6\n",
    "df_geo['latitude']/=1e6"
   ]
  },
  {
   "cell_type": "code",
   "execution_count": null,
   "metadata": {},
   "outputs": [],
   "source": [
    "# normalized latitude\n",
    "df_geo.latitude.head()"
   ]
  },
  {
   "cell_type": "code",
   "execution_count": null,
   "metadata": {},
   "outputs": [],
   "source": [
    "# normalized longitude\n",
    "df.longitude.head()"
   ]
  },
  {
   "cell_type": "code",
   "execution_count": null,
   "metadata": {},
   "outputs": [],
   "source": [
    "# replace the lat and lonf in the merged df\n",
    "df['latitude'] = df_geo.latitude\n",
    "df['longitude'] = df_geo.longitude"
   ]
  },
  {
   "cell_type": "code",
   "execution_count": null,
   "metadata": {},
   "outputs": [],
   "source": [
    "# new_map = df\n",
    "# len(df)\n",
    "# new_map = folium.Map(location=[34.2809, -118.488],\n",
    "#                         zoom_start=13,\n",
    "#                         tiles='openstreetmap')\n",
    "# new_map\n",
    "\n",
    "# for i in df.index:\n",
    "#     lat = df.latitude[i]\n",
    "#     long = df.longitude[i]\n",
    "#     logerror = df.logerror[i]\n",
    "#     marker = folium.Marker([lat, long]).add_to(new_map)\n",
    "#     marker = folium.Marker([lat, long]).add_to(new_map)\n",
    "\n",
    "# new_map"
   ]
  },
  {
   "cell_type": "code",
   "execution_count": null,
   "metadata": {},
   "outputs": [],
   "source": [
    "df_geo.dropna(subset=['latitude', 'longitude'], axis=0, inplace=True)\n",
    "df_geo.head()"
   ]
  },
  {
   "cell_type": "code",
   "execution_count": null,
   "metadata": {},
   "outputs": [],
   "source": [
    "plt.figure(figsize=(20,10))\n",
    "ulimit = np.percentile(df.logerror.values, 99)\n",
    "llimit = np.percentile(df.logerror.values, 1)\n",
    "df['logerror'].loc[df['logerror']>ulimit] = ulimit\n",
    "df['logerror'].loc[df['logerror']<llimit] = llimit\n",
    "\n",
    "plt.figure(figsize=(12,8))\n",
    "sns.distplot(df.logerror.values, bins=50, color='cyan', kde=False)\n",
    "plt.xlabel('logerror')\n",
    "plt.show()"
   ]
  },
  {
   "cell_type": "code",
   "execution_count": null,
   "metadata": {},
   "outputs": [],
   "source": [
    "\n",
    "sns.set_palette(sns.color_palette(\"cubehelix\", 8))\n",
    "sns.set_context('paper')\n",
    "\n",
    "plt.figure(figsize=(12,12))\n",
    "sns.jointplot(df.latitude.values, df.longitude.values, size=10)\n",
    "plt.ylabel('Longitude', fontsize=12)\n",
    "plt.xlabel('Latitude', fontsize=12)\n",
    "plt.show()\n"
   ]
  },
  {
   "cell_type": "code",
   "execution_count": null,
   "metadata": {},
   "outputs": [],
   "source": [
    "plt.figure(figsize=(12,12))\n",
    "sns.set_context('paper')\n",
    "cmap = sns.cubehelix_palette(light=1, as_cmap=True)\n",
    "sns.kdeplot(df.latitude.values, df.longitude.values, cmap=cmap, shade=True);\n",
    "\n",
    "# pal = sns.dark_palette(\"palegreen\", as_cmap=True)\n",
    "# sns.kdeplot(x, y, cmap=pal);"
   ]
  },
  {
   "cell_type": "code",
   "execution_count": null,
   "metadata": {},
   "outputs": [],
   "source": [
    "# create map of every house\n",
    "sns.set_palette(sns.color_palette(\"cubehelix\"))\n",
    "sns.set_context('paper')\n",
    "\n",
    "plt.figure(figsize=(12,12))\n",
    "sns.scatterplot(df.latitude.values, df.longitude.values)\n",
    "plt.ylabel('Longitude', fontsize=12)\n",
    "plt.xlabel('Latitude', fontsize=12)\n",
    "plt.show()"
   ]
  },
  {
   "cell_type": "code",
   "execution_count": null,
   "metadata": {},
   "outputs": [],
   "source": [
    "unique = df.yearbuilt.unique()\n",
    "sorted_unique = sorted(unique)\n",
    "print(min(sorted_unique))\n",
    "print(max(sorted_unique))"
   ]
  },
  {
   "cell_type": "code",
   "execution_count": null,
   "metadata": {},
   "outputs": [],
   "source": [
    "# yearbuilt frequency barplot\n",
    "df['yearbuilt'].plot.hist(range=(1885, 2015), bins=20, color='darkblue')\n",
    "plt.title('Year bins', color = 'orange')\n",
    "plt.show()"
   ]
  },
  {
   "cell_type": "code",
   "execution_count": null,
   "metadata": {},
   "outputs": [],
   "source": [
    "# make new column for year_built with 3 bins\n",
    "# 1 before 1900\n",
    "# 2 between 1900 and 1940\n",
    "# 3 between 1940 and 1970\n",
    "# 4 between 1970 and 2000\n",
    "# 5 after 2000\n",
    "\n",
    "df['year_bins'] = df.yearbuilt.map(lambda x: 1 if x >= 1885 and x <= 1900\n",
    "                            else (2 if x > 1900 and x <= 1940\n",
    "                                  else (3 if x > 1940 and x <= 1970\n",
    "                                       else (4 if x > 1970 and x <= 2000\n",
    "                                            else 5))))\n",
    "df.head(5)"
   ]
  },
  {
   "cell_type": "code",
   "execution_count": null,
   "metadata": {},
   "outputs": [],
   "source": [
    "df.year_bins.unique()"
   ]
  },
  {
   "cell_type": "code",
   "execution_count": null,
   "metadata": {},
   "outputs": [],
   "source": [
    "# create map of every house by year of built\n",
    "sns.set_palette(sns.color_palette(\"cubehelix\"))\n",
    "sns.set_context('paper')\n",
    "sns.set(style='whitegrid')\n",
    "\n",
    "# '2000-2015'\n",
    "lat5 = df.loc[df['year_bins'] == 5].latitude\n",
    "long5 = df.loc[df['year_bins'] == 5].longitude\n",
    "# '1970-2000'\n",
    "lat4 = df.loc[df['year_bins'] == 4].latitude\n",
    "long4 = df.loc[df['year_bins'] == 4].longitude\n",
    "# '1940-1970'\n",
    "lat3 = df.loc[df['year_bins'] == 3].latitude\n",
    "long3 = df.loc[df['year_bins'] == 3].longitude\n",
    "# '1900-1940'\n",
    "lat2 = df.loc[df['year_bins'] == 2].latitude\n",
    "long2 = df.loc[df['year_bins'] == 2].longitude\n",
    "# '1885-1900'\n",
    "lat1 = df.loc[df['year_bins'] == 1].latitude\n",
    "long1 = df.loc[df['year_bins'] == 1].longitude\n",
    "\n",
    "plt.figure(figsize=(12,12))\n",
    "sns.scatterplot(lat5.values, long5.values, label = '2000-2015', color='orange')\n",
    "sns.scatterplot(lat4.values, long4.values, label = '1970-2000', color='red')\n",
    "sns.scatterplot(lat3.values, long3.values, label = '1940-1970', color='plum')\n",
    "sns.scatterplot(lat2.values, long2.values, label = '1900-1940', color='teal')\n",
    "sns.scatterplot(lat1.values, long1.values, label = '1885-1900', color='navy')\n",
    "\n",
    "plt.title('California houses by year of built', color = 'navy')\n",
    "plt.legend()\n",
    "\n",
    "plt.ylabel('Longitude')\n",
    "plt.xlabel('Latitude')\n",
    "plt.show()"
   ]
  },
  {
   "cell_type": "code",
   "execution_count": null,
   "metadata": {},
   "outputs": [],
   "source": [
    "fig = plt.figure(figsize = (24,14))\n",
    "\n",
    "# ax1 = fig.add_subplot(221)\n",
    "# sns.scatterplot(lat1.values, long1.values, label = '1885-1900', color='navy')\n",
    "# plt.legend()\n",
    "\n",
    "ax1 = fig.add_subplot(221)\n",
    "plt.scatter(long1, lat1, label = '1885-1900', color='darkblue', marker='.')\n",
    "plt.title('Houses built from 1885 to 1900')\n",
    "\n",
    "ax2 = fig.add_subplot(222)\n",
    "sns.scatterplot(lat2.values, long2.values, label = '1900-1940', color='teal')\n",
    "plt.title('Houses built from 1900 to 1940')\n",
    "\n",
    "ax3 = fig.add_subplot(223)\n",
    "sns.scatterplot(lat3.values, long3.values, label = '1940-1970', color='plum')\n",
    "plt.title('Houses built from 1940 to 1970')\n",
    "\n",
    "ax4 = fig.add_subplot(224)\n",
    "sns.scatterplot(lat4.values, long4.values, label = '1970-2000', color='red')\n",
    "plt.title('Houses built from 1970 to 2000')\n",
    "\n",
    "# ax5 = fig.add_subplot(225)\n",
    "# sns.scatterplot(lat5.values, long5.values, label = '2000-2015', color='orange')\n",
    "# plt.title('Houses built from 2000 to 2015')\n",
    "\n",
    "plt.ylabel('Longitude')\n",
    "plt.xlabel('Latitude')\n",
    "plt.show()"
   ]
  },
  {
   "cell_type": "code",
   "execution_count": null,
   "metadata": {},
   "outputs": [],
   "source": [
    "\n",
    "fig = plt.figure(figsize = (7,4.5))\n",
    "\n",
    "sns.scatterplot(lat5.values, long5.values, label = '2000-2015', color='orange')\n",
    "plt.title('Houses built from 2000 to 2015')"
   ]
  },
  {
   "cell_type": "code",
   "execution_count": null,
   "metadata": {},
   "outputs": [],
   "source": [
    "\n",
    "plt.figure(figsize=(12,12))\n",
    "sns.set_context('paper')\n",
    "cmap = sns.cubehelix_palette(light=1, as_cmap=True)\n",
    "\n",
    "z = df.logerror\n",
    "plt.scatter(df.latitude.values, df.longitude.values, s=z*2000, c=x, cmap=cmap, alpha=0.4, linewidth=2)\n",
    "# plt.scatter(x, y, s=z*2000, c=x, cmap=\"Blues\", alpha=0.4, edgecolors=\"grey\", linewidth=2)\n",
    "\n",
    "plt.show()"
   ]
  },
  {
   "cell_type": "code",
   "execution_count": null,
   "metadata": {},
   "outputs": [],
   "source": [
    "\n",
    "fig = plt.figure(figsize = (24,14))\n",
    "ax1= fig.add_subplot(222)\n",
    "\n",
    "df['yearbuilt'] = df['yearbuilt'].map(lambda x:str(x).split('.')[0])\n",
    "year = df.groupby(['yearbuilt', 'roomcnt'])['parcelid'].count().unstack('roomcnt').fillna(0)\n",
    "year.plot(kind='bar', stacked=True,ax=ax1)"
   ]
  },
  {
   "cell_type": "code",
   "execution_count": null,
   "metadata": {},
   "outputs": [],
   "source": [
    "df.describe()"
   ]
  },
  {
   "cell_type": "code",
   "execution_count": null,
   "metadata": {},
   "outputs": [],
   "source": [
    "# logerror 75%\n",
    "logerror_75= df['logerror'].quantile(0.75)\n",
    "\n",
    "# make a dataframe with the quantile\n",
    "big_logerror = df[(df['logerror'] >= logerror_75)]\n",
    "big_logerror.head()"
   ]
  },
  {
   "cell_type": "code",
   "execution_count": null,
   "metadata": {},
   "outputs": [],
   "source": [
    "len(big_logerror)"
   ]
  },
  {
   "cell_type": "code",
   "execution_count": null,
   "metadata": {},
   "outputs": [],
   "source": []
  }
 ],
 "metadata": {
  "kernelspec": {
   "display_name": "Python 3",
   "language": "python",
   "name": "python3"
  },
  "language_info": {
   "codemirror_mode": {
    "name": "ipython",
    "version": 3
   },
   "file_extension": ".py",
   "mimetype": "text/x-python",
   "name": "python",
   "nbconvert_exporter": "python",
   "pygments_lexer": "ipython3",
   "version": "3.7.1"
  }
 },
 "nbformat": 4,
 "nbformat_minor": 2
}
