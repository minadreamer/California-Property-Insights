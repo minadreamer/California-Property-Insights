{
 "cells": [
  {
   "cell_type": "code",
   "execution_count": 1,
   "metadata": {},
   "outputs": [],
   "source": [
    "import pandas as pd\n",
    "import numpy as np"
   ]
  },
  {
   "cell_type": "code",
   "execution_count": 3,
   "metadata": {},
   "outputs": [],
   "source": [
    "import requests"
   ]
  },
  {
   "cell_type": "code",
   "execution_count": 16,
   "metadata": {},
   "outputs": [],
   "source": [
    "resp = requests.get('https://api.zoopla.co.uk/nyxbuu4nqf7bsfqzckzpcah9/v1/property_listings')"
   ]
  },
  {
   "cell_type": "code",
   "execution_count": 18,
   "metadata": {},
   "outputs": [],
   "source": [
    "req = requests.get('https://api.zoopla.co.uk/nyxbuu4nqf7bsfqzckzpcah9/v1/property_listings.xml?area=London')"
   ]
  },
  {
   "cell_type": "code",
   "execution_count": 20,
   "metadata": {},
   "outputs": [
    {
     "name": "stdout",
     "output_type": "stream",
     "text": [
      "<Response [596]>\n"
     ]
    }
   ],
   "source": [
    "print (req)"
   ]
  },
  {
   "cell_type": "code",
   "execution_count": 7,
   "metadata": {},
   "outputs": [
    {
     "data": {
      "text/plain": [
       "{'Date': 'Wed, 27 Nov 2019 15:39:22 GMT',\n",
       " 'Content-Type': 'text/html; charset=UTF-8',\n",
       " 'Transfer-Encoding': 'chunked',\n",
       " 'Connection': 'keep-alive',\n",
       " 'Server': 'nginx',\n",
       " 'Vary': 'Accept-Encoding, User-Agent',\n",
       " 'Set-Cookie': 'zooplasid=e8c261a40fe67e5dfa3b6b7c893909ab; domain=zoopla.co.uk; path=/; secure',\n",
       " 'Pragma': 'no-cache',\n",
       " 'Cache-control': 'no-cache',\n",
       " 'X-Powered-By': 'Passion',\n",
       " 'X-Core-Mission': 'Empowering consumers with the resources they need to make better-informed property decisions',\n",
       " 'X-Jobs': \"If you're reading this, maybe you should be working at Zoopla? Please visit www.zoopla.co.uk/jobs/\",\n",
       " 'X-Frame-Options': 'SAMEORIGIN',\n",
       " 'Referrer-Policy': 'strict-origin',\n",
       " 'X-XSS-Protection': '1; mode=block',\n",
       " 'Strict-Transport-Security': 'max-age=31536000; includeSubDomains',\n",
       " 'Expires': 'Wed, 27 Nov 2019 15:39:22 GMT',\n",
       " 'Content-Encoding': 'gzip'}"
      ]
     },
     "execution_count": 7,
     "metadata": {},
     "output_type": "execute_result"
    }
   ],
   "source": [
    "dict(resp.headers)"
   ]
  },
  {
   "cell_type": "code",
   "execution_count": 8,
   "metadata": {},
   "outputs": [
    {
     "name": "stdout",
     "output_type": "stream",
     "text": [
      "Wed, 27 Nov 2019 15:39:22 GMT\n",
      "nginx\n"
     ]
    }
   ],
   "source": [
    "print(resp.headers['Date'])  # Date the response was sent\n",
    "print(resp.headers['server'])   # Server type "
   ]
  },
  {
   "cell_type": "code",
   "execution_count": 10,
   "metadata": {},
   "outputs": [
    {
     "ename": "SyntaxError",
     "evalue": "invalid syntax (<ipython-input-10-05f1ed9af0e3>, line 1)",
     "output_type": "error",
     "traceback": [
      "\u001b[0;36m  File \u001b[0;32m\"<ipython-input-10-05f1ed9af0e3>\"\u001b[0;36m, line \u001b[0;32m1\u001b[0m\n\u001b[0;31m    http://api.zoopla.co.uk/api/v1/property_listings.xml?area=London&api_key=nyxbuu4nqf7bsfqzckzpcah9\u001b[0m\n\u001b[0m          ^\u001b[0m\n\u001b[0;31mSyntaxError\u001b[0m\u001b[0;31m:\u001b[0m invalid syntax\n"
     ]
    }
   ],
   "source": [
    "http://api.zoopla.co.uk/api/v1/property_listings.xml?area=London&api_key=nyxbuu4nqf7bsfqzckzpcah9"
   ]
  },
  {
   "cell_type": "code",
   "execution_count": 14,
   "metadata": {},
   "outputs": [
    {
     "ename": "SyntaxError",
     "evalue": "invalid syntax (<ipython-input-14-2108f0d68daa>, line 1)",
     "output_type": "error",
     "traceback": [
      "\u001b[0;36m  File \u001b[0;32m\"<ipython-input-14-2108f0d68daa>\"\u001b[0;36m, line \u001b[0;32m1\u001b[0m\n\u001b[0;31m    https://api.zoopla.co.uk/nyxbuu4nqf7bsfqzckzpcah9/v1/property_listings.xml?area=London\u001b[0m\n\u001b[0m           ^\u001b[0m\n\u001b[0;31mSyntaxError\u001b[0m\u001b[0;31m:\u001b[0m invalid syntax\n"
     ]
    }
   ],
   "source": [
    "https://api.zoopla.co.uk/nyxbuu4nqf7bsfqzckzpcah9/v1/property_listings.xml?area=London"
   ]
  },
  {
   "cell_type": "code",
   "execution_count": 35,
   "metadata": {},
   "outputs": [],
   "source": [
    "url_1 = requests.get('http://api.zoopla.co.uk/api/v1/property_listings.json?area=London&api_key=nyxbuu4nqf7bsfqzckzpcah9').json()"
   ]
  },
  {
   "cell_type": "code",
   "execution_count": 38,
   "metadata": {},
   "outputs": [
    {
     "data": {
      "text/plain": [
       "dict_keys(['country', 'result_count', 'longitude', 'area_name', 'listing', 'street', 'town', 'latitude', 'county', 'bounding_box', 'postcode'])"
      ]
     },
     "execution_count": 38,
     "metadata": {},
     "output_type": "execute_result"
    }
   ],
   "source": [
    "url_1.keys()"
   ]
  },
  {
   "cell_type": "code",
   "execution_count": 33,
   "metadata": {},
   "outputs": [
    {
     "data": {
      "text/plain": [
       "{'Content-Type': 'application/json; charset=utf-8',\n",
       " 'Date': 'Wed, 27 Nov 2019 16:20:10 GMT',\n",
       " 'Server': 'nginx',\n",
       " 'transfer-encoding': 'chunked',\n",
       " 'Connection': 'keep-alive'}"
      ]
     },
     "execution_count": 33,
     "metadata": {},
     "output_type": "execute_result"
    }
   ],
   "source": [
    "dict(url_1.headers)"
   ]
  },
  {
   "cell_type": "code",
   "execution_count": 43,
   "metadata": {},
   "outputs": [
    {
     "data": {
      "text/plain": [
       "dict_values(['England', 102617, -0.1846435, '', [{'country_code': 'gb', 'num_floors': '6', 'image_150_113_url': 'https://lid.zoocdn.com/150/113/0d4f63d83077588bf82306da9c853e793d24152d.jpg', 'listing_status': 'sale', 'num_bedrooms': '0', 'location_is_approximate': 0, 'image_50_38_url': 'https://lid.zoocdn.com/50/38/0d4f63d83077588bf82306da9c853e793d24152d.jpg', 'latitude': 51.512596, 'furnished_state': None, 'agent_address': '50 Old Church Street, Chelsea', 'category': 'Residential', 'property_type': 'Block of flats', 'letting_fees': 'Standard fees:<br>Administration fee: £350 incl VAT per tenancy agreement per long let<br>£150 incl VAT per tenancy agreement for short let<br>Tenant or Guarantor referencing fee: £60 incl VAT per tenant or guarantor<br>Tenancy renewal fee: £120 incl VAT per renewal<br>Contribution to Inventory cost: £130 incl VAT', 'longitude': -0.172754, 'floor_area': {'min_floor_area': {'value': '110000', 'units': 'sq_feet'}}, 'thumbnail_url': 'https://lid.zoocdn.com/80/60/0d4f63d83077588bf82306da9c853e793d24152d.jpg', 'description': 'London W2Excellent opportunity to acquiry this substantial stucco fronted corner building with panoramic views of Hyde Park.This building is arranged over five floors and basements.Moments to Hyde Park, Queensway and Bayswater Underground Stations and within easy reach of the many excellent shopping, restaurants, banks and transport facilities of Oxford Street and West End.FreeholdAsking price: £225million. Subject to ContractBrochure and information on request', 'post_town': 'London', 'details_url': 'https://www.zoopla.co.uk/for-sale/details/52686069?utm_source=v1:-K2HGiLYWh3J-0Sob747rTb0NQU91rDW&utm_medium=api', 'short_description': 'Great rental investmentopportunity in hyde park. W2. Close to bayswater, queensway, oxford street.', 'outcode': 'W2', 'image_645_430_url': 'https://lid.zoocdn.com/645/430/0d4f63d83077588bf82306da9c853e793d24152d.jpg', 'county': 'London', 'price': '225000000', 'listing_id': '52686069', 'image_caption': '', 'image_80_60_url': 'https://lid.zoocdn.com/80/60/0d4f63d83077588bf82306da9c853e793d24152d.jpg', 'status': 'for_sale', 'agent_name': 'Panther International Properties', 'num_recepts': '6', 'country': 'England', 'first_published_date': '2019-09-11 15:36:40', 'displayable_address': 'Hyde Park, London W2', 'price_modifier': 'guide_price', 'street_name': 'Hyde Park', 'num_bathrooms': '0', 'agent_logo': 'https://st.zoocdn.com/zoopla_static_agent_logo_(311432).png', 'price_change': [{'direction': '', 'date': '2019-09-11 15:35:10', 'percent': '0%', 'price': '225000000'}], 'agent_phone': '020 8115 2521', 'image_354_255_url': 'https://lid.zoocdn.com/354/255/0d4f63d83077588bf82306da9c853e793d24152d.jpg', 'image_url': 'https://lid.zoocdn.com/354/255/0d4f63d83077588bf82306da9c853e793d24152d.jpg', 'last_published_date': '2019-10-20 21:33:12'}, {'country_code': 'gb', 'num_floors': '0', 'image_150_113_url': 'https://lid.zoocdn.com/150/113/fd49855d55ea0eef657721d7ba17055a75f93f69.jpg', 'listing_status': 'sale', 'num_bedrooms': '5', 'location_is_approximate': 0, 'image_50_38_url': 'https://lid.zoocdn.com/50/38/fd49855d55ea0eef657721d7ba17055a75f93f69.jpg', 'latitude': 51.500614, 'furnished_state': None, 'agent_address': '160 Ebury Street (Corner Of Eaton Terrace), Belgravia, London', 'category': 'Residential', 'property_type': 'Town house', 'letting_fees': 'Referencing fee: £50<br>Tenancy Agreement Fee: £180<br>Inventory Charge: Subject to separate agreement with inventory check company and tenant', 'longitude': -0.156462, 'thumbnail_url': 'https://lid.zoocdn.com/80/60/fd49855d55ea0eef657721d7ba17055a75f93f69.jpg', 'description': 'A freehold un-modernised house and mews house overlooking the beautiful garden square.This large family house includes garaging, 5 spacious bedroom suites, 3 principal reception/entertaining rooms & staff accommodation.', 'post_town': 'London', 'details_url': 'https://www.zoopla.co.uk/for-sale/details/38531242?utm_source=v1:-K2HGiLYWh3J-0Sob747rTb0NQU91rDW&utm_medium=api', 'short_description': 'A freehold un-modernised house and mews house overlooking the beautiful garden square.', 'outcode': 'SW1X', 'image_645_430_url': 'https://lid.zoocdn.com/645/430/fd49855d55ea0eef657721d7ba17055a75f93f69.jpg', 'county': 'London', 'price': 0, 'listing_id': '38531242', 'image_caption': '', 'image_80_60_url': 'https://lid.zoocdn.com/80/60/fd49855d55ea0eef657721d7ba17055a75f93f69.jpg', 'status': 'for_sale', 'agent_name': 'Wellbelove Quested', 'num_recepts': '3', 'country': 'England', 'first_published_date': '2015-10-30 15:00:00', 'displayable_address': 'Wilton Crescent, London SW1X', 'price_modifier': 'price_on_request', 'street_name': 'Wilton Crescent', 'num_bathrooms': '5', 'agent_logo': 'https://st.zoocdn.com/zoopla_static_agent_logo_(274908).png', 'price_change': [{'direction': '', 'date': '2015-10-30 14:58:05', 'percent': '0%', 'price': '100000000'}], 'agent_phone': '020 8115 2445', 'image_354_255_url': 'https://lid.zoocdn.com/354/255/fd49855d55ea0eef657721d7ba17055a75f93f69.jpg', 'image_url': 'https://lid.zoocdn.com/354/255/fd49855d55ea0eef657721d7ba17055a75f93f69.jpg', 'last_published_date': '2019-09-10 15:24:27'}, {'country_code': 'gb', 'num_floors': '5', 'image_150_113_url': 'https://lid.zoocdn.com/150/113/dd24f26dd9f80baf2a04d971911be686228aa10f.jpg', 'listing_status': 'sale', 'num_bedrooms': '10', 'location_is_approximate': 0, 'image_50_38_url': 'https://lid.zoocdn.com/50/38/dd24f26dd9f80baf2a04d971911be686228aa10f.jpg', 'latitude': 51.498245, 'furnished_state': None, 'agent_address': '50 Old Church Street, Chelsea', 'category': 'Residential', 'property_type': 'Terraced house', 'letting_fees': 'Standard fees:<br>Administration fee: £350 incl VAT per tenancy agreement per long let<br>£150 incl VAT per tenancy agreement for short let<br>Tenant or Guarantor referencing fee: £60 incl VAT per tenant or guarantor<br>Tenancy renewal fee: £120 incl VAT per renewal<br>Contribution to Inventory cost: £130 incl VAT', 'longitude': -0.14032888, 'floor_area': {'min_floor_area': {'value': '19800', 'units': 'sq_feet'}}, 'thumbnail_url': 'https://lid.zoocdn.com/80/60/dd24f26dd9f80baf2a04d971911be686228aa10f.jpg', 'description': 'Belgrave square - londonFantastic and Unique Opportunity. An excellent opportunity to acquire this Grade II Listed house on 5 floors with lift, 10 bedrooms, 8 bathrooms and 4 reception rooms.Only a short walk to many excellent local boutique shops, bars and restaurants of Motcomb Street and the many transport facilities, shops and departments stores of Sloane Square and Knightsbridge.Area aprox: 19,800 sq ftFreeholdAsking price: £82.5million. Subject to ContractPlease call or e-mail us to arrange a visit.Brochure and information on request', 'post_town': None, 'details_url': 'https://www.zoopla.co.uk/for-sale/details/50874217?utm_source=v1:-K2HGiLYWh3J-0Sob747rTb0NQU91rDW&utm_medium=api', 'short_description': 'Stunning house exceptionally located. Close to Sloane Square, Knightsbridge and Park Lane.', 'outcode': 'SW1', 'image_645_430_url': 'https://lid.zoocdn.com/645/430/dd24f26dd9f80baf2a04d971911be686228aa10f.jpg', 'county': None, 'price': '82500000', 'listing_id': '50874217', 'image_caption': '', 'image_80_60_url': 'https://lid.zoocdn.com/80/60/dd24f26dd9f80baf2a04d971911be686228aa10f.jpg', 'status': 'for_sale', 'agent_name': 'Panther International Properties', 'num_recepts': '4', 'country': None, 'first_published_date': '2019-03-20 23:17:11', 'displayable_address': 'Belgrave Square, Belgravia SW1', 'street_name': 'Belgrave Square', 'num_bathrooms': '8', 'agent_logo': 'https://st.zoocdn.com/zoopla_static_agent_logo_(311432).png', 'price_change': [{'direction': '', 'date': '2019-03-20 23:16:07', 'percent': '0%', 'price': '80000000'}, {'direction': 'up', 'date': '2019-05-08 23:31:05', 'percent': '3.1%', 'price': '82500000'}], 'agent_phone': '020 8115 2521', 'image_354_255_url': 'https://lid.zoocdn.com/354/255/dd24f26dd9f80baf2a04d971911be686228aa10f.jpg', 'image_url': 'https://lid.zoocdn.com/354/255/dd24f26dd9f80baf2a04d971911be686228aa10f.jpg', 'last_published_date': '2019-10-20 21:37:38', 'price_change_summary': {'direction': 'up', 'percent': '3.1%', 'last_updated_date': '2019-05-08 23:31:05'}}, {'country_code': 'gb', 'num_floors': '4', 'image_150_113_url': 'https://lid.zoocdn.com/150/113/4030637f0fd080db9e7d09cdc9982f3749be2f06.jpg', 'listing_status': 'sale', 'num_bedrooms': '12', 'location_is_approximate': 0, 'image_50_38_url': 'https://lid.zoocdn.com/50/38/4030637f0fd080db9e7d09cdc9982f3749be2f06.jpg', 'latitude': 51.498245, 'furnished_state': None, 'agent_address': '50 Old Church Street, Chelsea', 'category': 'Residential', 'property_type': 'Link-detached house', 'letting_fees': 'Standard fees:<br>Administration fee: £350 incl VAT per tenancy agreement per long let<br>£150 incl VAT per tenancy agreement for short let<br>Tenant or Guarantor referencing fee: £60 incl VAT per tenant or guarantor<br>Tenancy renewal fee: £120 incl VAT per renewal<br>Contribution to Inventory cost: £130 incl VAT', 'longitude': -0.14032888, 'floor_area': {'min_floor_area': {'value': '16500', 'units': 'sq_feet'}}, 'thumbnail_url': 'https://lid.zoocdn.com/80/60/4030637f0fd080db9e7d09cdc9982f3749be2f06.jpg', 'description': 'Belgrave square - londonAn excellent opportunity to acquire this Grade II Listed house on 4 floors.Magnificent views and overlooking Belgrave Square.Only a short walk to many excellent local boutique shops, bars and restaurants of Motcomb Street and the many transport facilities, shops and departments stores of Sloane Square and Knightsbridge. Moments to Park Lane.Area aprox: 16,500 sq ftFreeholdAsking price: £67.5million. Subject to ContractPlease call or e-mail us to arrange a visit.Brochure and information on request', 'post_town': None, 'details_url': 'https://www.zoopla.co.uk/for-sale/details/53394525?utm_source=v1:-K2HGiLYWh3J-0Sob747rTb0NQU91rDW&utm_medium=api', 'short_description': 'Opulenbt style and exceptionally located freehold house. Close to Knightsbridge, Sloane Square and Park Lane.', 'outcode': 'SW1', 'image_645_430_url': 'https://lid.zoocdn.com/645/430/4030637f0fd080db9e7d09cdc9982f3749be2f06.jpg', 'county': None, 'price': '67500000', 'listing_id': '53394525', 'image_caption': '', 'image_80_60_url': 'https://lid.zoocdn.com/80/60/4030637f0fd080db9e7d09cdc9982f3749be2f06.jpg', 'status': 'for_sale', 'agent_name': 'Panther International Properties', 'num_recepts': '4', 'country': None, 'first_published_date': '2019-11-20 13:06:00', 'displayable_address': 'Belgrave Square, London Belgravia SW1', 'street_name': 'Belgrave Square', 'num_bathrooms': '8', 'agent_logo': 'https://st.zoocdn.com/zoopla_static_agent_logo_(311432).png', 'price_change': [{'direction': '', 'date': '2019-11-20 13:05:17', 'percent': '0%', 'price': '67500000'}], 'agent_phone': '020 8115 2521', 'image_354_255_url': 'https://lid.zoocdn.com/354/255/4030637f0fd080db9e7d09cdc9982f3749be2f06.jpg', 'image_url': 'https://lid.zoocdn.com/354/255/4030637f0fd080db9e7d09cdc9982f3749be2f06.jpg', 'last_published_date': '2019-11-20 13:06:00'}, {'country_code': 'gb', 'num_floors': '6', 'image_150_113_url': 'https://lid.zoocdn.com/150/113/12490e84bc50d74d8489a16070fe7fabba2cb121.jpg', 'listing_status': 'sale', 'num_bedrooms': '0', 'location_is_approximate': 0, 'image_50_38_url': 'https://lid.zoocdn.com/50/38/12490e84bc50d74d8489a16070fe7fabba2cb121.jpg', 'latitude': 51.493877, 'furnished_state': None, 'agent_address': '50 Old Church Street, Chelsea', 'category': 'Residential', 'property_type': 'Block of flats', 'letting_fees': 'Standard fees:<br>Administration fee: £350 incl VAT per tenancy agreement per long let<br>£150 incl VAT per tenancy agreement for short let<br>Tenant or Guarantor referencing fee: £60 incl VAT per tenant or guarantor<br>Tenancy renewal fee: £120 incl VAT per renewal<br>Contribution to Inventory cost: £130 incl VAT', 'longitude': -0.185902, 'floor_area': {'min_floor_area': {'value': '36000', 'units': 'sq_feet'}}, 'thumbnail_url': 'https://lid.zoocdn.com/80/60/f658100ffaf8b1cfa699c5b2454c90867e693d23.jpg', 'description': \"SW7 4DGGreat rental investment in a peaceful side street in the heart of Kensington and Chelsea Borough. Access to all the capital's mayor attractions and transport links only moments walk away.Close to many world famous museums and Cromwell Hospital. Fully interior designed apartments divided in 2 stunning buildings.FreeholdFull information on request.Please call or send e-mail to arrange a visit.\", 'post_town': 'London', 'details_url': 'https://www.zoopla.co.uk/for-sale/details/50874261?utm_source=v1:-K2HGiLYWh3J-0Sob747rTb0NQU91rDW&utm_medium=api', 'short_description': 'Amazing and unique opportunity for Investment in the heart of Kensington. Freehold', 'outcode': 'SW7', 'image_645_430_url': 'https://lid.zoocdn.com/645/430/12490e84bc50d74d8489a16070fe7fabba2cb121.jpg', 'county': 'London', 'price': '65000000', 'listing_id': '50874261', 'image_caption': '', 'image_80_60_url': 'https://lid.zoocdn.com/80/60/f658100ffaf8b1cfa699c5b2454c90867e693d23.jpg', 'status': 'for_sale', 'agent_name': 'Panther International Properties', 'num_recepts': '6', 'country': 'England', 'first_published_date': '2019-03-20 23:04:14', 'displayable_address': 'London, Kensington And Chelsea SW7', 'street_name': 'London', 'num_bathrooms': '0', 'agent_logo': 'https://st.zoocdn.com/zoopla_static_agent_logo_(311432).png', 'price_change': [{'direction': '', 'date': '2019-03-20 23:03:05', 'percent': '0%', 'price': '65000000'}], 'agent_phone': '020 8115 2521', 'image_354_255_url': 'https://lid.zoocdn.com/354/255/12490e84bc50d74d8489a16070fe7fabba2cb121.jpg', 'image_url': 'https://lid.zoocdn.com/354/255/12490e84bc50d74d8489a16070fe7fabba2cb121.jpg', 'last_published_date': '2019-10-20 21:45:03'}, {'country_code': 'gb', 'num_floors': '5', 'image_150_113_url': 'https://lid.zoocdn.com/150/113/a343b8f6e4ba648725bef39b0df67394fe25781d.jpg', 'listing_status': 'sale', 'num_bedrooms': '7', 'location_is_approximate': 0, 'image_50_38_url': 'https://lid.zoocdn.com/50/38/a343b8f6e4ba648725bef39b0df67394fe25781d.jpg', 'latitude': 51.509773, 'furnished_state': None, 'agent_address': '50 Old Church Street, Chelsea', 'category': 'Residential', 'property_type': 'Terraced house', 'letting_fees': 'Standard fees:<br>Administration fee: £350 incl VAT per tenancy agreement per long let<br>£150 incl VAT per tenancy agreement for short let<br>Tenant or Guarantor referencing fee: £60 incl VAT per tenant or guarantor<br>Tenancy renewal fee: £120 incl VAT per renewal<br>Contribution to Inventory cost: £130 incl VAT', 'longitude': -0.15213826, 'floor_area': {'min_floor_area': {'value': '13975', 'units': 'sq_feet'}}, 'thumbnail_url': 'https://lid.zoocdn.com/80/60/a343b8f6e4ba648725bef39b0df67394fe25781d.jpg', 'description': 'Mayfair, London W1K.An elegant and bespoke 7 bedroom house arranged over 6 floors with lift in the heart of Mayfair. Close to Park Lane, Berkeley Square, Green Park, Oxford Street, shops, amenities and facilities of Mayfair.Asking price: £65million. Subject to ContractFreeholdArea approx: 13,975 sq ft.Brochure on request', 'post_town': None, 'details_url': 'https://www.zoopla.co.uk/for-sale/details/50874284?utm_source=v1:-K2HGiLYWh3J-0Sob747rTb0NQU91rDW&utm_medium=api', 'short_description': 'Stunning 7 bedroom house arranged over six floors with lift. Excellent location in the heart of Mayfair. Close to Green Park, Bond Street Underground Stations and Berkeley Square', 'outcode': 'W1K', 'image_645_430_url': 'https://lid.zoocdn.com/645/430/a343b8f6e4ba648725bef39b0df67394fe25781d.jpg', 'county': None, 'price': '65000000', 'listing_id': '50874284', 'image_caption': '', 'image_80_60_url': 'https://lid.zoocdn.com/80/60/a343b8f6e4ba648725bef39b0df67394fe25781d.jpg', 'status': 'for_sale', 'agent_name': 'Panther International Properties', 'num_recepts': '4', 'country': None, 'first_published_date': '2019-03-20 23:19:49', 'displayable_address': '2Ap, Mayfair W1K', 'street_name': 'W1K 2AP', 'num_bathrooms': '7', 'agent_logo': 'https://st.zoocdn.com/zoopla_static_agent_logo_(311432).png', 'price_change': [{'direction': '', 'date': '2019-03-20 23:19:06', 'percent': '0%', 'price': '62500000'}, {'direction': 'up', 'date': '2019-07-17 23:23:07', 'percent': '4%', 'price': '65000000'}], 'agent_phone': '020 8115 2521', 'image_354_255_url': 'https://lid.zoocdn.com/354/255/a343b8f6e4ba648725bef39b0df67394fe25781d.jpg', 'image_url': 'https://lid.zoocdn.com/354/255/a343b8f6e4ba648725bef39b0df67394fe25781d.jpg', 'last_published_date': '2019-10-20 21:44:04', 'price_change_summary': {'direction': 'up', 'percent': '4%', 'last_updated_date': '2019-07-17 23:23:07'}}, {'country_code': 'gb', 'num_floors': '0', 'image_150_113_url': 'https://lid.zoocdn.com/150/113/719cc997431202400b4798e93cabae1921553ff2.jpg', 'listing_status': 'sale', 'num_bedrooms': '8', 'location_is_approximate': 0, 'image_50_38_url': 'https://lid.zoocdn.com/50/38/719cc997431202400b4798e93cabae1921553ff2.jpg', 'latitude': 51.499767, 'furnished_state': None, 'agent_address': '106 Great Portland Street, London', 'category': 'Residential', 'property_type': '', 'letting_fees': 'Before the tenancy starts (payable to [The Cloister] ‘the Agent’)<br>Holding Deposit: 1 week’s rent<br>Deposit: 5 weeks’ rent or if over £50,000 it will be 6 weeks rentDuring the tenancy (payable to the Agent)Payment of £50.00 if you want to change the tenancy agreementPayment of £50.00 for the reasonably incurred costs for the loss of keys/security devicesPayment of any unpaid rent or other reasonable costs associated with your early termination of the tenancy', 'longitude': -0.141541, 'thumbnail_url': 'https://lid.zoocdn.com/80/60/719cc997431202400b4798e93cabae1921553ff2.jpg', 'description': \"Luxurious Grade II listed six-bedroom townhouse spanning 14,227 sq ft across seven floors. This fabolous property includes a outstanding fully fitted kitchen, dining room, living room, drawing room, entertainment room, media room, five dressing rooms, two courtyards, six large bedrooms with en suite bathrooms, two staff rooms, four shower rooms, four WCs, two studies, two balconies, two private terraces, utility room. The property further benefit from an array of world-class amenities, including underground parking, easy lift access, a bar, a pool, a gym, a sauna, a treatment room, two changing rooms, security and 24-hour concierge services. Buckingham Gate neighbours Buckingham Palace, one of the most exclusive locations in London, providing easy access to London's finest shops, restaurants, bars, clubs, museums, art galleries and green spaces. Particularly accessible areas from Buckingham Gate include Mayfair, Knightsbridge, Belgravia, Westminster and St James's Park. Transport links Stations within the vicinity include St James's Park (0.4 miles, Circle and District lines), Westminster station (0.7 miles, Circle, District, and Jubilee lines), and Victoria station (0.4 miles, Gatwick Express, Southern, Thameslink, Southeastern, Circle, District, and Victoria lines).\", 'post_town': 'London', 'details_url': 'https://www.zoopla.co.uk/for-sale/details/51081629?utm_source=v1:-K2HGiLYWh3J-0Sob747rTb0NQU91rDW&utm_medium=api', 'short_description': 'Luxurious Grade II listed six-bedroom townhouse spanning 14,227 sq ft across seven floors. Benefits include an array of world-class amenities inlcuding underground parking, easy lift access, a bar, pool, gym, sauna, treatment room and a 24h Concierge.', 'outcode': 'SW1E', 'image_645_430_url': 'https://lid.zoocdn.com/645/430/719cc997431202400b4798e93cabae1921553ff2.jpg', 'county': 'London', 'price': '55000000', 'listing_id': '51081629', 'image_caption': '', 'image_80_60_url': 'https://lid.zoocdn.com/80/60/719cc997431202400b4798e93cabae1921553ff2.jpg', 'status': 'for_sale', 'agent_name': 'The Cloister', 'num_recepts': '3', 'country': 'England', 'first_published_date': '2019-04-09 17:31:33', 'displayable_address': 'Buckingham Gate, London SW1E', 'floor_plan': ['https://lc.zoocdn.com/ea30719f66026c34c68b5f68508f7c9a89a587a1.jpg'], 'street_name': 'Buckingham Gate', 'num_bathrooms': '9', 'agent_logo': 'https://st.zoocdn.com/zoopla_static_agent_logo_(59012).jpeg', 'price_change': [{'direction': '', 'date': '2019-04-09 16:21:50', 'percent': '0%', 'price': '45000000'}, {'direction': 'up', 'date': '2019-06-27 11:29:54', 'percent': '33.3%', 'price': '60000000'}, {'direction': 'down', 'date': '2019-11-15 14:01:26', 'percent': '-8.3%', 'price': '55000000'}], 'agent_phone': '020 8115 9868', 'image_354_255_url': 'https://lid.zoocdn.com/354/255/719cc997431202400b4798e93cabae1921553ff2.jpg', 'image_url': 'https://lid.zoocdn.com/354/255/719cc997431202400b4798e93cabae1921553ff2.jpg', 'last_published_date': '2019-11-27 10:17:13', 'price_change_summary': {'direction': 'up', 'percent': '22.2%', 'last_updated_date': '2019-11-15 14:01:26'}}, {'country_code': 'gb', 'num_floors': '1', 'image_150_113_url': 'https://lid.zoocdn.com/150/113/0243efe25e1a35938824f1fed1300241cd8ae9ce.jpg', 'listing_status': 'sale', 'num_bedrooms': '10', 'location_is_approximate': 0, 'image_50_38_url': 'https://lid.zoocdn.com/50/38/0243efe25e1a35938824f1fed1300241cd8ae9ce.jpg', 'latitude': 51.566948, 'furnished_state': None, 'agent_address': '58-62 Heath Street, Hampstead, London', 'category': 'Residential', 'property_type': 'Detached house', 'letting_fees': \"Tenant charges<br><br>ASTs<br>Holding deposits (per tenancy) One week's rent (ASTs only)<br>Rent<br>Deposit (if rent is under £50,000 per annum) Equivalent to five week's rent<br>Deposit (if rent is between £50,000 and £100,000 per annum) Equivalent to six week's rent<br>Utilities, communication service, council tax and TV Licences<br>Variation of contract at the tenants request (£50 inclusive of VAT) (ASTs only)<br>Change of sharer at the tenant's request (£50 inclusive of VAT per replacement tenant or any reasonable costs incurred if higher) (ASTs only)<br>Early termination at the tenant's request - Should the tenant wish to leave their contract early, they shall be liable to the landlords costs in re-letting the property as well as all rent due under the tenancy until the start date of the replacement tenancy. These costs will be no more than the maximum amount of rent outstanding on the tenancy. (ASTs only)<br>Unpaid rent/returned payments - Interest will be charged at 3% above the Bank of England Base Rate from rent due date until paid in order to pursue non-payment of rent. Please note: This will not be levied until the rent is more than 14 days in arrears.<br>Lost Keys or other security devices - Tenants are liable for the actual cost of replacing any lost keys or other security devices. If the loss results in locks needing to be changed, the actual cost of the locksmith, new lock and replacement keys will be charged to the tenant. If extra costs are incurred there will be a charge of £15 per hour (inclusive of VAT) for the time taken replacing the lost keys of other security devices.<br><br>Non ASTs<br>Before the tenancy starts:<br>Holding Deposit (Equivalent to two weeks' rent) (Non ASTs only)<br>Deposit (Equivalent to six week's rent (unless agreed otherwise)) (Non ASTs only)<br>Pet deposit (Equivalent to two week's rent in addition to your deposit (as listed above)) (Non ASTs only)<br>Tenancy Agreement fee (£276 inclusive of VAT) (Non ASTs only)<br>Reference fee payable by each tenant/guarantor (£48 inclusive of VAT) (Non ASTs only)<br>Permitted occupant check fee payable by each permitted occupier over the age of 18 (£24 inclusive of VAT) (Non ASTs only)<br>Bank reference fee (refer to your bank as charges vary) (Non ASTs only)<br>Stamp Duty (on tenancies that amount to over £125,000) (Non ASTs only)<br><br>During the tenancy:<br>Amendment fee for contract negotiation, amending terms and updating your tenancy agreement during your tenancy (£600 inclusive of VAT) (non ASTs only)<br>Utilities (gas, electricity, water and telephone)<br>Council Tax<br>Television licence<br>Installation of cable/satellite (if permitted and applicable)<br>Subscription to cable/satellite supplier<br>Insurance (for your personal and own contents)<br>Garden maintenance<br><br>Ending your tenancy:<br>Cleaning of the property<br>Inventory check-out (Non ASTs only)<br>Check out arrangement fee (£60 inclusive of VAT) (Non ASTs only)<br>Dilapidations (as agreed)<br><br>Other fees:<br>Unpaid rent/returned payments (Interest will be charged at 4% above the Bank of England Base Rate from the date due) (Non ASTs only)<br>Arrears letter charge (£24 per letter sent) (Non ASTs only)<br><br>Knight Frank are members of the Property Redress Scheme (Consumer Redress Scheme) and RICS Dispute Resolution Service (Business Redress Scheme) and have Client Money protection with RICS Client Money Protection Scheme.\", 'longitude': -0.155482, 'thumbnail_url': 'https://lid.zoocdn.com/80/60/0243efe25e1a35938824f1fed1300241cd8ae9ce.jpg', 'description': 'Located on a sought after road and occupying a 2 acre site, a bespoke family home with the accommodation predominantly arranged over three floors with the benefit of a substantial, self-contained staff lodge.The luxurious entrance hall of this stunning home, has a glass lift to each floor.From the impressive entrance hall, there is the formal sitting and dining room that overlooks the magnificent grounds, that opens onto the breakfast room and in turn opens onto the kitchen.On the first floor there is the master suite with bathroom, four further suites each with en suite bathrooms whilst to the top floor there is a magnificent home office with panoramic views over the gardens and Hampstead Heath beyond.The leisure facilities have been thoughtfully designed and the swimming pool opens on to the garden whilst there are full spa facilities behind.There is also a home gymnasium and billiards room.The staff lodge extends to approx. 4,400sqft and there is garaging below for approx. 4 cars as well as ample off street parking to the front of the house.The landscaped gardens are in excess of two acres and the gardens offer a serene oasis within this sought after location with the additional benefit of a tennis court', 'post_town': 'London', 'details_url': 'https://www.zoopla.co.uk/for-sale/details/53120999?utm_source=v1:-K2HGiLYWh3J-0Sob747rTb0NQU91rDW&utm_medium=api', 'short_description': 'Exceptional Contemporary Mansion in Highgate - Located on a sought after road and occupying a 2 acre site, a bespoke family home with the accommodation predominantly arranged over three floors with the benefit of a substantial, self-contained staff lodge.', 'outcode': 'N6', 'image_645_430_url': 'https://lid.zoocdn.com/645/430/0243efe25e1a35938824f1fed1300241cd8ae9ce.jpg', 'county': 'London', 'price': '40000000', 'listing_id': '53120999', 'image_caption': 'Picture No. 37', 'image_80_60_url': 'https://lid.zoocdn.com/80/60/0243efe25e1a35938824f1fed1300241cd8ae9ce.jpg', 'status': 'for_sale', 'agent_name': 'Knight Frank - Hampstead', 'num_recepts': '0', 'country': 'England', 'first_published_date': '2019-10-23 15:36:57', 'displayable_address': 'Merton Lane, London N6', 'floor_plan': ['https://lc.zoocdn.com/4bd7c1b32274547893af3d3de7f44afaef7f5c6c.pdf'], 'street_name': 'Merton Lane', 'num_bathrooms': '0', 'agent_logo': 'https://st.zoocdn.com/zoopla_static_agent_logo_(131837).png', 'price_change': [{'direction': '', 'date': '2019-10-23 15:35:19', 'percent': '0%', 'price': '40000000'}], 'agent_phone': '020 8022 5635', 'image_354_255_url': 'https://lid.zoocdn.com/354/255/0243efe25e1a35938824f1fed1300241cd8ae9ce.jpg', 'image_url': 'https://lid.zoocdn.com/354/255/0243efe25e1a35938824f1fed1300241cd8ae9ce.jpg', 'last_published_date': '2019-11-13 09:36:46'}, {'country_code': 'gb', 'num_floors': '0', 'image_150_113_url': 'https://lid.zoocdn.com/150/113/5c5d6612875e3b3851655f75bde5748777ef1b49.jpg', 'listing_status': 'sale', 'num_bedrooms': '10', 'location_is_approximate': 0, 'image_50_38_url': 'https://lid.zoocdn.com/50/38/5c5d6612875e3b3851655f75bde5748777ef1b49.jpg', 'latitude': 51.567356, 'furnished_state': None, 'agent_address': '77-79 Ebury Street, London', 'category': 'Residential', 'property_type': 'Detached house', 'letting_fees': 'Existing ast’s and all non ast’s - no administration fees!<br><br>Pet deposit: Returnable additional security deposit of two weeks rent.<br><h3 class=\"listing-desc-header top\"><strong>After you move in - inventory check-out</strong></h3><br>Dependent on the number of bedrooms and/or size of the property and outbuildings.<br><h3 class=\"listing-desc-header top\"><strong><br>Unfurnished flats<br>make check-in check-out comb make check-in</strong></h3><br>£ £ £ £<br>1 bed bed bed bed (+) quoted on an individual basis<br><h3 class=\"listing-desc-header top\"><strong><br>Unfurnished houses<br>make check-in check-out comb make check-in</strong></h3><br>£ £ £ £<br>1 bed bed bed bed (+) quoted on an individual basis<br><h3 class=\"listing-desc-header top\"><strong><br>Furnished flats<br>make check-in check-out comb make check-in</strong></h3><br>£ £ £ £<br>1 bed bed bed bed (+) quoted on an individual basis<br><h3 class=\"listing-desc-header top\"><strong><br>Furnished houses<br>make check-in check-out comb make check-in</strong></h3><br>£ £ £ £<br>1 bed bed bed bed (+) quoted on an individual basis<br><br>new ASTs signed on or after 1 June 2019<br>Holding Deposit (per tenancy) - One week’s rent.<br>Security Deposit (per tenancy rent under £50,000 per year) - Five week’s rent.<br>Security Deposit (per tenancy rent of £50,000 or over per year) - Six week’s rent.<br>Unpaid Rent - Interest at 0.75% above the Bank of England Base Rate as outlined in the Tenancy Agreement<br>Lost Key(s) or other Security Device(s) - Tenants are liable to the actual cost of replacing any lost key(s) or other security device(s). If the loss results in locks needing to be changed, the actual costs of a locksmith, new lock and replacement keys for the tenant, landlord any other persons requiring keys will be charged to the tenant.<br>Early Termination (Tenant’s Request) - Should the tenant wish to leave their contract early, they shall be liable to the landlord’s costs in re-letting the property as well as all rent due under the tenancy until the start date of the replacement tenancy. These costs will be no more than the maximum amount of rent outstanding on the tenancy.<br><br>UK Sotheby\\'s International Realty is a member of the Client Money Protection Scheme and our redress scheme for consumers is The Property Ombudsman.<br><h3 class=\"listing-desc-header top\"><strong><br></strong></h3>', 'longitude': -0.155018, 'thumbnail_url': 'https://lid.zoocdn.com/80/60/5c5d6612875e3b3851655f75bde5748777ef1b49.jpg', 'description': 'Exceptional contemporary mansion in HighgateLocated on a sought-after road in the heart of Highgate and occupying a two-acre site, a bespoke family home with the accommodation predominantly arranged over three floors with the benefit of a substantial, self-contained staff lodge. The luxurious entrance hall of this stunning home has a glass lift to each floor. From the impressive entrance hall, there is the formal sitting and dining room that overlooks the magnificent grounds, that opens onto the breakfast room and in turn opens onto the kitchen.On the first floor is the master suite with bathroom, four further suites each with en suite bathrooms whilst to the top floor there is a magnificent home office with panoramic views over the gardens and Hampstead Heath beyond. The leisure facilities have been thoughtfully designed and the swimming pool opens onto the garden whilst there are full spa facilities behind. There is also a home gymnasium and billiards room.The staff lodge extends to approximately 4,400 sq ft and there is garaging below for approximately four cars. The landscaped gardens are in excess of two acres and the gardens offer a serene oasis within this sought-after location with the additional benefit of a tennis court.', 'post_town': 'London', 'details_url': 'https://www.zoopla.co.uk/for-sale/details/53112425?utm_source=v1:-K2HGiLYWh3J-0Sob747rTb0NQU91rDW&utm_medium=api', 'short_description': 'Located on a sought-after road in the heart of Highgate and occupying a two-acre site, a bespoke family home with the accommodation predominantly arranged over three floors with the benefit of a substantial, self-contained staff lodge. (contd...)', 'outcode': 'N6', 'image_645_430_url': 'https://lid.zoocdn.com/645/430/5c5d6612875e3b3851655f75bde5748777ef1b49.jpg', 'county': 'London', 'price': 0, 'listing_id': '53112425', 'image_caption': 'Picture No. 82', 'image_80_60_url': 'https://lid.zoocdn.com/80/60/5c5d6612875e3b3851655f75bde5748777ef1b49.jpg', 'status': 'for_sale', 'agent_name': \"UK Sotheby's International Realty - London\", 'num_recepts': '0', 'country': 'England', 'first_published_date': '2019-10-22 22:08:40', 'displayable_address': 'Merton Lane, London N6', 'price_modifier': 'price_on_request', 'floor_plan': ['https://lc.zoocdn.com/2a206e3e7aa392c751df265f7793058598964998.jpg', 'https://lc.zoocdn.com/6ab70271046f367399e1db6cb18c5fc7a04edf4f.jpg', 'https://lc.zoocdn.com/b41fe8c5c94ce3ae3c7f3ab20543f75a594c6543.jpg', 'https://lc.zoocdn.com/b1097b4f8cd49db3f8f5ee84ba753b88bb719eb8.jpg'], 'street_name': 'London', 'num_bathrooms': '7', 'agent_logo': 'https://st.zoocdn.com/zoopla_static_agent_logo_(525633).png', 'price_change': [{'direction': '', 'date': '2019-10-22 17:45:04', 'percent': '0%', 'price': '40000000'}], 'agent_phone': '020 3589 1594', 'image_354_255_url': 'https://lid.zoocdn.com/354/255/5c5d6612875e3b3851655f75bde5748777ef1b49.jpg', 'image_url': 'https://lid.zoocdn.com/354/255/5c5d6612875e3b3851655f75bde5748777ef1b49.jpg', 'last_published_date': '2019-10-24 22:30:42'}, {'country_code': 'gb', 'num_floors': '0', 'image_150_113_url': 'https://lid.zoocdn.com/150/113/1e3a18fe435f10fdc382cb10f350800daf64fa03.jpg', 'listing_status': 'sale', 'num_bedrooms': '98', 'location_is_approximate': 0, 'image_50_38_url': 'https://lid.zoocdn.com/50/38/1e3a18fe435f10fdc382cb10f350800daf64fa03.jpg', 'latitude': 51.49218, 'furnished_state': None, 'agent_address': '106 Great Portland Street, London', 'category': 'Residential', 'property_type': '', 'letting_fees': 'Before the tenancy starts (payable to [The Cloister] ‘the Agent’)<br>Holding Deposit: 1 week’s rent<br>Deposit: 5 weeks’ rent or if over £50,000 it will be 6 weeks rentDuring the tenancy (payable to the Agent)Payment of £50.00 if you want to change the tenancy agreementPayment of £50.00 for the reasonably incurred costs for the loss of keys/security devicesPayment of any unpaid rent or other reasonable costs associated with your early termination of the tenancy', 'longitude': -0.19006, 'thumbnail_url': 'https://lid.zoocdn.com/80/60/1e3a18fe435f10fdc382cb10f350800daf64fa03.jpg', 'description': \"An excellent investment opportunity consisting of a portfolio of four period buildings with a combined total gia of 30,199 square feet. The portfolio is currently operated as a hostel with 98 rooms (440 beds). One of these buildings has planning permission (already activated) to convert to seven apartments with a total gia of 7,572 square feet. Subject to the necessary planning permissions, the site offers excellent development potential including conversion to residential apartments, serviced apartments or purpose-built student accommodation.The portfolio is ideally situated in the heart of prestigious South Kensington, widely recognised as one of London's finest addresses and is perfectly located for the sites and amenities of Kensington, Knightsbridge, Notting Hill and Chelsea. A short distance away are the Natural History, Science, and Victoria and Albert museums, the Royal Albert Hall, Hyde Park, the famous Portobello Road market, Harrods, Harvey Nicolls and flagship stores of many of the world's leading fashion houses. Travel into central London and the West End is quick and easy with Earl's Court London Underground station close by together with an excellent bus service.\", 'post_town': 'London', 'details_url': 'https://www.zoopla.co.uk/for-sale/details/52111230?utm_source=v1:-K2HGiLYWh3J-0Sob747rTb0NQU91rDW&utm_medium=api', 'short_description': 'An excellent investment opportunity consisting of a portfolio of four period buildings with a combined gia of 30,199 square feet', 'outcode': 'SW5', 'image_645_430_url': 'https://lid.zoocdn.com/645/430/1e3a18fe435f10fdc382cb10f350800daf64fa03.jpg', 'county': 'London', 'price': '38000000', 'listing_id': '52111230', 'image_caption': '', 'image_80_60_url': 'https://lid.zoocdn.com/80/60/1e3a18fe435f10fdc382cb10f350800daf64fa03.jpg', 'status': 'for_sale', 'agent_name': 'The Cloister', 'num_recepts': '0', 'country': 'England', 'first_published_date': '2019-07-16 12:45:03', 'displayable_address': 'Barkston Gardens, London SW5', 'street_name': 'Courtfield Gardens', 'num_bathrooms': '0', 'agent_logo': 'https://st.zoocdn.com/zoopla_static_agent_logo_(59012).jpeg', 'price_change': [{'direction': '', 'date': '2019-07-16 11:41:01', 'percent': '0%', 'price': '35000000'}, {'direction': 'up', 'date': '2019-11-12 18:01:35', 'percent': '8.5%', 'price': '38000000'}], 'agent_phone': '020 8115 9868', 'image_354_255_url': 'https://lid.zoocdn.com/354/255/1e3a18fe435f10fdc382cb10f350800daf64fa03.jpg', 'image_url': 'https://lid.zoocdn.com/354/255/1e3a18fe435f10fdc382cb10f350800daf64fa03.jpg', 'last_published_date': '2019-11-27 10:17:14', 'price_change_summary': {'direction': 'up', 'percent': '8.5%', 'last_updated_date': '2019-11-12 18:01:35'}}], '', '', 51.4848955, 'London', {'longitude_min': '-0.529094', 'latitude_min': '51.277293', 'longitude_max': '0.159807', 'latitude_max': '51.692498'}, ''])"
      ]
     },
     "execution_count": 43,
     "metadata": {},
     "output_type": "execute_result"
    }
   ],
   "source": [
    "url_1.values()"
   ]
  },
  {
   "cell_type": "code",
   "execution_count": 61,
   "metadata": {},
   "outputs": [
    {
     "ename": "AttributeError",
     "evalue": "'dict' object has no attribute 'headline'",
     "output_type": "error",
     "traceback": [
      "\u001b[0;31m---------------------------------------------------------------------------\u001b[0m",
      "\u001b[0;31mAttributeError\u001b[0m                            Traceback (most recent call last)",
      "\u001b[0;32m<ipython-input-61-9b6d708bf1bc>\u001b[0m in \u001b[0;36m<module>\u001b[0;34m\u001b[0m\n\u001b[1;32m      3\u001b[0m \u001b[0;34m\u001b[0m\u001b[0m\n\u001b[1;32m      4\u001b[0m \u001b[0;31m# Get dictionary keys\u001b[0m\u001b[0;34m\u001b[0m\u001b[0;34m\u001b[0m\u001b[0;34m\u001b[0m\u001b[0m\n\u001b[0;32m----> 5\u001b[0;31m \u001b[0mkeys\u001b[0m \u001b[0;34m=\u001b[0m \u001b[0mdata\u001b[0m\u001b[0;34m.\u001b[0m\u001b[0mheadline\u001b[0m\u001b[0;34m.\u001b[0m\u001b[0miloc\u001b[0m\u001b[0;34m[\u001b[0m\u001b[0;36m0\u001b[0m\u001b[0;34m]\u001b[0m\u001b[0;34m.\u001b[0m\u001b[0mkeys\u001b[0m\u001b[0;34m(\u001b[0m\u001b[0;34m)\u001b[0m\u001b[0;34m\u001b[0m\u001b[0;34m\u001b[0m\u001b[0m\n\u001b[0m\u001b[1;32m      6\u001b[0m \u001b[0mnew_col\u001b[0m \u001b[0;34m=\u001b[0m \u001b[0;34m[\u001b[0m \u001b[0;34m]\u001b[0m\u001b[0;34m\u001b[0m\u001b[0;34m\u001b[0m\u001b[0m\n\u001b[1;32m      7\u001b[0m \u001b[0;31m# Create a new feature for each of these keys\u001b[0m\u001b[0;34m\u001b[0m\u001b[0;34m\u001b[0m\u001b[0;34m\u001b[0m\u001b[0m\n",
      "\u001b[0;31mAttributeError\u001b[0m: 'dict' object has no attribute 'headline'"
     ]
    }
   ],
   "source": [
    "\n",
    "import json\n",
    "data = url_1\n",
    "\n",
    "# Get dictionary keys\n",
    "keys = data.headline.iloc[0].keys() \n",
    "new_col = [ ]\n",
    "# Create a new feature for each of these keys\n",
    "for key in keys:\n",
    "    new_col = 'headline_{}'.format(key) #Create new column name\n",
    "    df[new_col] = df.headline.map(lambda x: x[key]) #Create a new column\n",
    "    new_cols.append(new_col)\n",
    "df[new_cols].head()\n",
    "\n"
   ]
  },
  {
   "cell_type": "code",
   "execution_count": 69,
   "metadata": {},
   "outputs": [
    {
     "data": {
      "text/plain": [
       "dict_keys(['country', 'result_count', 'longitude', 'area_name', 'listing', 'street', 'town', 'latitude', 'county', 'bounding_box', 'postcode'])"
      ]
     },
     "execution_count": 69,
     "metadata": {},
     "output_type": "execute_result"
    }
   ],
   "source": [
    "data.keys()"
   ]
  },
  {
   "cell_type": "code",
   "execution_count": 70,
   "metadata": {},
   "outputs": [
    {
     "data": {
      "text/plain": [
       "11"
      ]
     },
     "execution_count": 70,
     "metadata": {},
     "output_type": "execute_result"
    }
   ],
   "source": [
    "len(data)"
   ]
  },
  {
   "cell_type": "code",
   "execution_count": 129,
   "metadata": {},
   "outputs": [
    {
     "data": {
      "text/plain": [
       "dict_items([('country', 'England'), ('result_count', 102617), ('longitude', -0.1846435), ('area_name', ''), ('listing', [{'country_code': 'gb', 'num_floors': '6', 'image_150_113_url': 'https://lid.zoocdn.com/150/113/0d4f63d83077588bf82306da9c853e793d24152d.jpg', 'listing_status': 'sale', 'num_bedrooms': '0', 'location_is_approximate': 0, 'image_50_38_url': 'https://lid.zoocdn.com/50/38/0d4f63d83077588bf82306da9c853e793d24152d.jpg', 'latitude': 51.512596, 'furnished_state': None, 'agent_address': '50 Old Church Street, Chelsea', 'category': 'Residential', 'property_type': 'Block of flats', 'letting_fees': 'Standard fees:<br>Administration fee: £350 incl VAT per tenancy agreement per long let<br>£150 incl VAT per tenancy agreement for short let<br>Tenant or Guarantor referencing fee: £60 incl VAT per tenant or guarantor<br>Tenancy renewal fee: £120 incl VAT per renewal<br>Contribution to Inventory cost: £130 incl VAT', 'longitude': -0.172754, 'floor_area': {'min_floor_area': {'value': '110000', 'units': 'sq_feet'}}, 'thumbnail_url': 'https://lid.zoocdn.com/80/60/0d4f63d83077588bf82306da9c853e793d24152d.jpg', 'description': 'London W2Excellent opportunity to acquiry this substantial stucco fronted corner building with panoramic views of Hyde Park.This building is arranged over five floors and basements.Moments to Hyde Park, Queensway and Bayswater Underground Stations and within easy reach of the many excellent shopping, restaurants, banks and transport facilities of Oxford Street and West End.FreeholdAsking price: £225million. Subject to ContractBrochure and information on request', 'post_town': 'London', 'details_url': 'https://www.zoopla.co.uk/for-sale/details/52686069?utm_source=v1:-K2HGiLYWh3J-0Sob747rTb0NQU91rDW&utm_medium=api', 'short_description': 'Great rental investmentopportunity in hyde park. W2. Close to bayswater, queensway, oxford street.', 'outcode': 'W2', 'image_645_430_url': 'https://lid.zoocdn.com/645/430/0d4f63d83077588bf82306da9c853e793d24152d.jpg', 'county': 'London', 'price': '225000000', 'listing_id': '52686069', 'image_caption': '', 'image_80_60_url': 'https://lid.zoocdn.com/80/60/0d4f63d83077588bf82306da9c853e793d24152d.jpg', 'status': 'for_sale', 'agent_name': 'Panther International Properties', 'num_recepts': '6', 'country': 'England', 'first_published_date': '2019-09-11 15:36:40', 'displayable_address': 'Hyde Park, London W2', 'price_modifier': 'guide_price', 'street_name': 'Hyde Park', 'num_bathrooms': '0', 'agent_logo': 'https://st.zoocdn.com/zoopla_static_agent_logo_(311432).png', 'price_change': [{'direction': '', 'date': '2019-09-11 15:35:10', 'percent': '0%', 'price': '225000000'}], 'agent_phone': '020 8115 2521', 'image_354_255_url': 'https://lid.zoocdn.com/354/255/0d4f63d83077588bf82306da9c853e793d24152d.jpg', 'image_url': 'https://lid.zoocdn.com/354/255/0d4f63d83077588bf82306da9c853e793d24152d.jpg', 'last_published_date': '2019-10-20 21:33:12'}, {'country_code': 'gb', 'num_floors': '0', 'image_150_113_url': 'https://lid.zoocdn.com/150/113/fd49855d55ea0eef657721d7ba17055a75f93f69.jpg', 'listing_status': 'sale', 'num_bedrooms': '5', 'location_is_approximate': 0, 'image_50_38_url': 'https://lid.zoocdn.com/50/38/fd49855d55ea0eef657721d7ba17055a75f93f69.jpg', 'latitude': 51.500614, 'furnished_state': None, 'agent_address': '160 Ebury Street (Corner Of Eaton Terrace), Belgravia, London', 'category': 'Residential', 'property_type': 'Town house', 'letting_fees': 'Referencing fee: £50<br>Tenancy Agreement Fee: £180<br>Inventory Charge: Subject to separate agreement with inventory check company and tenant', 'longitude': -0.156462, 'thumbnail_url': 'https://lid.zoocdn.com/80/60/fd49855d55ea0eef657721d7ba17055a75f93f69.jpg', 'description': 'A freehold un-modernised house and mews house overlooking the beautiful garden square.This large family house includes garaging, 5 spacious bedroom suites, 3 principal reception/entertaining rooms & staff accommodation.', 'post_town': 'London', 'details_url': 'https://www.zoopla.co.uk/for-sale/details/38531242?utm_source=v1:-K2HGiLYWh3J-0Sob747rTb0NQU91rDW&utm_medium=api', 'short_description': 'A freehold un-modernised house and mews house overlooking the beautiful garden square.', 'outcode': 'SW1X', 'image_645_430_url': 'https://lid.zoocdn.com/645/430/fd49855d55ea0eef657721d7ba17055a75f93f69.jpg', 'county': 'London', 'price': 0, 'listing_id': '38531242', 'image_caption': '', 'image_80_60_url': 'https://lid.zoocdn.com/80/60/fd49855d55ea0eef657721d7ba17055a75f93f69.jpg', 'status': 'for_sale', 'agent_name': 'Wellbelove Quested', 'num_recepts': '3', 'country': 'England', 'first_published_date': '2015-10-30 15:00:00', 'displayable_address': 'Wilton Crescent, London SW1X', 'price_modifier': 'price_on_request', 'street_name': 'Wilton Crescent', 'num_bathrooms': '5', 'agent_logo': 'https://st.zoocdn.com/zoopla_static_agent_logo_(274908).png', 'price_change': [{'direction': '', 'date': '2015-10-30 14:58:05', 'percent': '0%', 'price': '100000000'}], 'agent_phone': '020 8115 2445', 'image_354_255_url': 'https://lid.zoocdn.com/354/255/fd49855d55ea0eef657721d7ba17055a75f93f69.jpg', 'image_url': 'https://lid.zoocdn.com/354/255/fd49855d55ea0eef657721d7ba17055a75f93f69.jpg', 'last_published_date': '2019-09-10 15:24:27'}, {'country_code': 'gb', 'num_floors': '5', 'image_150_113_url': 'https://lid.zoocdn.com/150/113/dd24f26dd9f80baf2a04d971911be686228aa10f.jpg', 'listing_status': 'sale', 'num_bedrooms': '10', 'location_is_approximate': 0, 'image_50_38_url': 'https://lid.zoocdn.com/50/38/dd24f26dd9f80baf2a04d971911be686228aa10f.jpg', 'latitude': 51.498245, 'furnished_state': None, 'agent_address': '50 Old Church Street, Chelsea', 'category': 'Residential', 'property_type': 'Terraced house', 'letting_fees': 'Standard fees:<br>Administration fee: £350 incl VAT per tenancy agreement per long let<br>£150 incl VAT per tenancy agreement for short let<br>Tenant or Guarantor referencing fee: £60 incl VAT per tenant or guarantor<br>Tenancy renewal fee: £120 incl VAT per renewal<br>Contribution to Inventory cost: £130 incl VAT', 'longitude': -0.14032888, 'floor_area': {'min_floor_area': {'value': '19800', 'units': 'sq_feet'}}, 'thumbnail_url': 'https://lid.zoocdn.com/80/60/dd24f26dd9f80baf2a04d971911be686228aa10f.jpg', 'description': 'Belgrave square - londonFantastic and Unique Opportunity. An excellent opportunity to acquire this Grade II Listed house on 5 floors with lift, 10 bedrooms, 8 bathrooms and 4 reception rooms.Only a short walk to many excellent local boutique shops, bars and restaurants of Motcomb Street and the many transport facilities, shops and departments stores of Sloane Square and Knightsbridge.Area aprox: 19,800 sq ftFreeholdAsking price: £82.5million. Subject to ContractPlease call or e-mail us to arrange a visit.Brochure and information on request', 'post_town': None, 'details_url': 'https://www.zoopla.co.uk/for-sale/details/50874217?utm_source=v1:-K2HGiLYWh3J-0Sob747rTb0NQU91rDW&utm_medium=api', 'short_description': 'Stunning house exceptionally located. Close to Sloane Square, Knightsbridge and Park Lane.', 'outcode': 'SW1', 'image_645_430_url': 'https://lid.zoocdn.com/645/430/dd24f26dd9f80baf2a04d971911be686228aa10f.jpg', 'county': None, 'price': '82500000', 'listing_id': '50874217', 'image_caption': '', 'image_80_60_url': 'https://lid.zoocdn.com/80/60/dd24f26dd9f80baf2a04d971911be686228aa10f.jpg', 'status': 'for_sale', 'agent_name': 'Panther International Properties', 'num_recepts': '4', 'country': None, 'first_published_date': '2019-03-20 23:17:11', 'displayable_address': 'Belgrave Square, Belgravia SW1', 'street_name': 'Belgrave Square', 'num_bathrooms': '8', 'agent_logo': 'https://st.zoocdn.com/zoopla_static_agent_logo_(311432).png', 'price_change': [{'direction': '', 'date': '2019-03-20 23:16:07', 'percent': '0%', 'price': '80000000'}, {'direction': 'up', 'date': '2019-05-08 23:31:05', 'percent': '3.1%', 'price': '82500000'}], 'agent_phone': '020 8115 2521', 'image_354_255_url': 'https://lid.zoocdn.com/354/255/dd24f26dd9f80baf2a04d971911be686228aa10f.jpg', 'image_url': 'https://lid.zoocdn.com/354/255/dd24f26dd9f80baf2a04d971911be686228aa10f.jpg', 'last_published_date': '2019-10-20 21:37:38', 'price_change_summary': {'direction': 'up', 'percent': '3.1%', 'last_updated_date': '2019-05-08 23:31:05'}}, {'country_code': 'gb', 'num_floors': '4', 'image_150_113_url': 'https://lid.zoocdn.com/150/113/4030637f0fd080db9e7d09cdc9982f3749be2f06.jpg', 'listing_status': 'sale', 'num_bedrooms': '12', 'location_is_approximate': 0, 'image_50_38_url': 'https://lid.zoocdn.com/50/38/4030637f0fd080db9e7d09cdc9982f3749be2f06.jpg', 'latitude': 51.498245, 'furnished_state': None, 'agent_address': '50 Old Church Street, Chelsea', 'category': 'Residential', 'property_type': 'Link-detached house', 'letting_fees': 'Standard fees:<br>Administration fee: £350 incl VAT per tenancy agreement per long let<br>£150 incl VAT per tenancy agreement for short let<br>Tenant or Guarantor referencing fee: £60 incl VAT per tenant or guarantor<br>Tenancy renewal fee: £120 incl VAT per renewal<br>Contribution to Inventory cost: £130 incl VAT', 'longitude': -0.14032888, 'floor_area': {'min_floor_area': {'value': '16500', 'units': 'sq_feet'}}, 'thumbnail_url': 'https://lid.zoocdn.com/80/60/4030637f0fd080db9e7d09cdc9982f3749be2f06.jpg', 'description': 'Belgrave square - londonAn excellent opportunity to acquire this Grade II Listed house on 4 floors.Magnificent views and overlooking Belgrave Square.Only a short walk to many excellent local boutique shops, bars and restaurants of Motcomb Street and the many transport facilities, shops and departments stores of Sloane Square and Knightsbridge. Moments to Park Lane.Area aprox: 16,500 sq ftFreeholdAsking price: £67.5million. Subject to ContractPlease call or e-mail us to arrange a visit.Brochure and information on request', 'post_town': None, 'details_url': 'https://www.zoopla.co.uk/for-sale/details/53394525?utm_source=v1:-K2HGiLYWh3J-0Sob747rTb0NQU91rDW&utm_medium=api', 'short_description': 'Opulenbt style and exceptionally located freehold house. Close to Knightsbridge, Sloane Square and Park Lane.', 'outcode': 'SW1', 'image_645_430_url': 'https://lid.zoocdn.com/645/430/4030637f0fd080db9e7d09cdc9982f3749be2f06.jpg', 'county': None, 'price': '67500000', 'listing_id': '53394525', 'image_caption': '', 'image_80_60_url': 'https://lid.zoocdn.com/80/60/4030637f0fd080db9e7d09cdc9982f3749be2f06.jpg', 'status': 'for_sale', 'agent_name': 'Panther International Properties', 'num_recepts': '4', 'country': None, 'first_published_date': '2019-11-20 13:06:00', 'displayable_address': 'Belgrave Square, London Belgravia SW1', 'street_name': 'Belgrave Square', 'num_bathrooms': '8', 'agent_logo': 'https://st.zoocdn.com/zoopla_static_agent_logo_(311432).png', 'price_change': [{'direction': '', 'date': '2019-11-20 13:05:17', 'percent': '0%', 'price': '67500000'}], 'agent_phone': '020 8115 2521', 'image_354_255_url': 'https://lid.zoocdn.com/354/255/4030637f0fd080db9e7d09cdc9982f3749be2f06.jpg', 'image_url': 'https://lid.zoocdn.com/354/255/4030637f0fd080db9e7d09cdc9982f3749be2f06.jpg', 'last_published_date': '2019-11-20 13:06:00'}, {'country_code': 'gb', 'num_floors': '6', 'image_150_113_url': 'https://lid.zoocdn.com/150/113/12490e84bc50d74d8489a16070fe7fabba2cb121.jpg', 'listing_status': 'sale', 'num_bedrooms': '0', 'location_is_approximate': 0, 'image_50_38_url': 'https://lid.zoocdn.com/50/38/12490e84bc50d74d8489a16070fe7fabba2cb121.jpg', 'latitude': 51.493877, 'furnished_state': None, 'agent_address': '50 Old Church Street, Chelsea', 'category': 'Residential', 'property_type': 'Block of flats', 'letting_fees': 'Standard fees:<br>Administration fee: £350 incl VAT per tenancy agreement per long let<br>£150 incl VAT per tenancy agreement for short let<br>Tenant or Guarantor referencing fee: £60 incl VAT per tenant or guarantor<br>Tenancy renewal fee: £120 incl VAT per renewal<br>Contribution to Inventory cost: £130 incl VAT', 'longitude': -0.185902, 'floor_area': {'min_floor_area': {'value': '36000', 'units': 'sq_feet'}}, 'thumbnail_url': 'https://lid.zoocdn.com/80/60/f658100ffaf8b1cfa699c5b2454c90867e693d23.jpg', 'description': \"SW7 4DGGreat rental investment in a peaceful side street in the heart of Kensington and Chelsea Borough. Access to all the capital's mayor attractions and transport links only moments walk away.Close to many world famous museums and Cromwell Hospital. Fully interior designed apartments divided in 2 stunning buildings.FreeholdFull information on request.Please call or send e-mail to arrange a visit.\", 'post_town': 'London', 'details_url': 'https://www.zoopla.co.uk/for-sale/details/50874261?utm_source=v1:-K2HGiLYWh3J-0Sob747rTb0NQU91rDW&utm_medium=api', 'short_description': 'Amazing and unique opportunity for Investment in the heart of Kensington. Freehold', 'outcode': 'SW7', 'image_645_430_url': 'https://lid.zoocdn.com/645/430/12490e84bc50d74d8489a16070fe7fabba2cb121.jpg', 'county': 'London', 'price': '65000000', 'listing_id': '50874261', 'image_caption': '', 'image_80_60_url': 'https://lid.zoocdn.com/80/60/f658100ffaf8b1cfa699c5b2454c90867e693d23.jpg', 'status': 'for_sale', 'agent_name': 'Panther International Properties', 'num_recepts': '6', 'country': 'England', 'first_published_date': '2019-03-20 23:04:14', 'displayable_address': 'London, Kensington And Chelsea SW7', 'street_name': 'London', 'num_bathrooms': '0', 'agent_logo': 'https://st.zoocdn.com/zoopla_static_agent_logo_(311432).png', 'price_change': [{'direction': '', 'date': '2019-03-20 23:03:05', 'percent': '0%', 'price': '65000000'}], 'agent_phone': '020 8115 2521', 'image_354_255_url': 'https://lid.zoocdn.com/354/255/12490e84bc50d74d8489a16070fe7fabba2cb121.jpg', 'image_url': 'https://lid.zoocdn.com/354/255/12490e84bc50d74d8489a16070fe7fabba2cb121.jpg', 'last_published_date': '2019-10-20 21:45:03'}, {'country_code': 'gb', 'num_floors': '5', 'image_150_113_url': 'https://lid.zoocdn.com/150/113/a343b8f6e4ba648725bef39b0df67394fe25781d.jpg', 'listing_status': 'sale', 'num_bedrooms': '7', 'location_is_approximate': 0, 'image_50_38_url': 'https://lid.zoocdn.com/50/38/a343b8f6e4ba648725bef39b0df67394fe25781d.jpg', 'latitude': 51.509773, 'furnished_state': None, 'agent_address': '50 Old Church Street, Chelsea', 'category': 'Residential', 'property_type': 'Terraced house', 'letting_fees': 'Standard fees:<br>Administration fee: £350 incl VAT per tenancy agreement per long let<br>£150 incl VAT per tenancy agreement for short let<br>Tenant or Guarantor referencing fee: £60 incl VAT per tenant or guarantor<br>Tenancy renewal fee: £120 incl VAT per renewal<br>Contribution to Inventory cost: £130 incl VAT', 'longitude': -0.15213826, 'floor_area': {'min_floor_area': {'value': '13975', 'units': 'sq_feet'}}, 'thumbnail_url': 'https://lid.zoocdn.com/80/60/a343b8f6e4ba648725bef39b0df67394fe25781d.jpg', 'description': 'Mayfair, London W1K.An elegant and bespoke 7 bedroom house arranged over 6 floors with lift in the heart of Mayfair. Close to Park Lane, Berkeley Square, Green Park, Oxford Street, shops, amenities and facilities of Mayfair.Asking price: £65million. Subject to ContractFreeholdArea approx: 13,975 sq ft.Brochure on request', 'post_town': None, 'details_url': 'https://www.zoopla.co.uk/for-sale/details/50874284?utm_source=v1:-K2HGiLYWh3J-0Sob747rTb0NQU91rDW&utm_medium=api', 'short_description': 'Stunning 7 bedroom house arranged over six floors with lift. Excellent location in the heart of Mayfair. Close to Green Park, Bond Street Underground Stations and Berkeley Square', 'outcode': 'W1K', 'image_645_430_url': 'https://lid.zoocdn.com/645/430/a343b8f6e4ba648725bef39b0df67394fe25781d.jpg', 'county': None, 'price': '65000000', 'listing_id': '50874284', 'image_caption': '', 'image_80_60_url': 'https://lid.zoocdn.com/80/60/a343b8f6e4ba648725bef39b0df67394fe25781d.jpg', 'status': 'for_sale', 'agent_name': 'Panther International Properties', 'num_recepts': '4', 'country': None, 'first_published_date': '2019-03-20 23:19:49', 'displayable_address': '2Ap, Mayfair W1K', 'street_name': 'W1K 2AP', 'num_bathrooms': '7', 'agent_logo': 'https://st.zoocdn.com/zoopla_static_agent_logo_(311432).png', 'price_change': [{'direction': '', 'date': '2019-03-20 23:19:06', 'percent': '0%', 'price': '62500000'}, {'direction': 'up', 'date': '2019-07-17 23:23:07', 'percent': '4%', 'price': '65000000'}], 'agent_phone': '020 8115 2521', 'image_354_255_url': 'https://lid.zoocdn.com/354/255/a343b8f6e4ba648725bef39b0df67394fe25781d.jpg', 'image_url': 'https://lid.zoocdn.com/354/255/a343b8f6e4ba648725bef39b0df67394fe25781d.jpg', 'last_published_date': '2019-10-20 21:44:04', 'price_change_summary': {'direction': 'up', 'percent': '4%', 'last_updated_date': '2019-07-17 23:23:07'}}, {'country_code': 'gb', 'num_floors': '0', 'image_150_113_url': 'https://lid.zoocdn.com/150/113/719cc997431202400b4798e93cabae1921553ff2.jpg', 'listing_status': 'sale', 'num_bedrooms': '8', 'location_is_approximate': 0, 'image_50_38_url': 'https://lid.zoocdn.com/50/38/719cc997431202400b4798e93cabae1921553ff2.jpg', 'latitude': 51.499767, 'furnished_state': None, 'agent_address': '106 Great Portland Street, London', 'category': 'Residential', 'property_type': '', 'letting_fees': 'Before the tenancy starts (payable to [The Cloister] ‘the Agent’)<br>Holding Deposit: 1 week’s rent<br>Deposit: 5 weeks’ rent or if over £50,000 it will be 6 weeks rentDuring the tenancy (payable to the Agent)Payment of £50.00 if you want to change the tenancy agreementPayment of £50.00 for the reasonably incurred costs for the loss of keys/security devicesPayment of any unpaid rent or other reasonable costs associated with your early termination of the tenancy', 'longitude': -0.141541, 'thumbnail_url': 'https://lid.zoocdn.com/80/60/719cc997431202400b4798e93cabae1921553ff2.jpg', 'description': \"Luxurious Grade II listed six-bedroom townhouse spanning 14,227 sq ft across seven floors. This fabolous property includes a outstanding fully fitted kitchen, dining room, living room, drawing room, entertainment room, media room, five dressing rooms, two courtyards, six large bedrooms with en suite bathrooms, two staff rooms, four shower rooms, four WCs, two studies, two balconies, two private terraces, utility room. The property further benefit from an array of world-class amenities, including underground parking, easy lift access, a bar, a pool, a gym, a sauna, a treatment room, two changing rooms, security and 24-hour concierge services. Buckingham Gate neighbours Buckingham Palace, one of the most exclusive locations in London, providing easy access to London's finest shops, restaurants, bars, clubs, museums, art galleries and green spaces. Particularly accessible areas from Buckingham Gate include Mayfair, Knightsbridge, Belgravia, Westminster and St James's Park. Transport links Stations within the vicinity include St James's Park (0.4 miles, Circle and District lines), Westminster station (0.7 miles, Circle, District, and Jubilee lines), and Victoria station (0.4 miles, Gatwick Express, Southern, Thameslink, Southeastern, Circle, District, and Victoria lines).\", 'post_town': 'London', 'details_url': 'https://www.zoopla.co.uk/for-sale/details/51081629?utm_source=v1:-K2HGiLYWh3J-0Sob747rTb0NQU91rDW&utm_medium=api', 'short_description': 'Luxurious Grade II listed six-bedroom townhouse spanning 14,227 sq ft across seven floors. Benefits include an array of world-class amenities inlcuding underground parking, easy lift access, a bar, pool, gym, sauna, treatment room and a 24h Concierge.', 'outcode': 'SW1E', 'image_645_430_url': 'https://lid.zoocdn.com/645/430/719cc997431202400b4798e93cabae1921553ff2.jpg', 'county': 'London', 'price': '55000000', 'listing_id': '51081629', 'image_caption': '', 'image_80_60_url': 'https://lid.zoocdn.com/80/60/719cc997431202400b4798e93cabae1921553ff2.jpg', 'status': 'for_sale', 'agent_name': 'The Cloister', 'num_recepts': '3', 'country': 'England', 'first_published_date': '2019-04-09 17:31:33', 'displayable_address': 'Buckingham Gate, London SW1E', 'floor_plan': ['https://lc.zoocdn.com/ea30719f66026c34c68b5f68508f7c9a89a587a1.jpg'], 'street_name': 'Buckingham Gate', 'num_bathrooms': '9', 'agent_logo': 'https://st.zoocdn.com/zoopla_static_agent_logo_(59012).jpeg', 'price_change': [{'direction': '', 'date': '2019-04-09 16:21:50', 'percent': '0%', 'price': '45000000'}, {'direction': 'up', 'date': '2019-06-27 11:29:54', 'percent': '33.3%', 'price': '60000000'}, {'direction': 'down', 'date': '2019-11-15 14:01:26', 'percent': '-8.3%', 'price': '55000000'}], 'agent_phone': '020 8115 9868', 'image_354_255_url': 'https://lid.zoocdn.com/354/255/719cc997431202400b4798e93cabae1921553ff2.jpg', 'image_url': 'https://lid.zoocdn.com/354/255/719cc997431202400b4798e93cabae1921553ff2.jpg', 'last_published_date': '2019-11-27 10:17:13', 'price_change_summary': {'direction': 'up', 'percent': '22.2%', 'last_updated_date': '2019-11-15 14:01:26'}}, {'country_code': 'gb', 'num_floors': '1', 'image_150_113_url': 'https://lid.zoocdn.com/150/113/0243efe25e1a35938824f1fed1300241cd8ae9ce.jpg', 'listing_status': 'sale', 'num_bedrooms': '10', 'location_is_approximate': 0, 'image_50_38_url': 'https://lid.zoocdn.com/50/38/0243efe25e1a35938824f1fed1300241cd8ae9ce.jpg', 'latitude': 51.566948, 'furnished_state': None, 'agent_address': '58-62 Heath Street, Hampstead, London', 'category': 'Residential', 'property_type': 'Detached house', 'letting_fees': \"Tenant charges<br><br>ASTs<br>Holding deposits (per tenancy) One week's rent (ASTs only)<br>Rent<br>Deposit (if rent is under £50,000 per annum) Equivalent to five week's rent<br>Deposit (if rent is between £50,000 and £100,000 per annum) Equivalent to six week's rent<br>Utilities, communication service, council tax and TV Licences<br>Variation of contract at the tenants request (£50 inclusive of VAT) (ASTs only)<br>Change of sharer at the tenant's request (£50 inclusive of VAT per replacement tenant or any reasonable costs incurred if higher) (ASTs only)<br>Early termination at the tenant's request - Should the tenant wish to leave their contract early, they shall be liable to the landlords costs in re-letting the property as well as all rent due under the tenancy until the start date of the replacement tenancy. These costs will be no more than the maximum amount of rent outstanding on the tenancy. (ASTs only)<br>Unpaid rent/returned payments - Interest will be charged at 3% above the Bank of England Base Rate from rent due date until paid in order to pursue non-payment of rent. Please note: This will not be levied until the rent is more than 14 days in arrears.<br>Lost Keys or other security devices - Tenants are liable for the actual cost of replacing any lost keys or other security devices. If the loss results in locks needing to be changed, the actual cost of the locksmith, new lock and replacement keys will be charged to the tenant. If extra costs are incurred there will be a charge of £15 per hour (inclusive of VAT) for the time taken replacing the lost keys of other security devices.<br><br>Non ASTs<br>Before the tenancy starts:<br>Holding Deposit (Equivalent to two weeks' rent) (Non ASTs only)<br>Deposit (Equivalent to six week's rent (unless agreed otherwise)) (Non ASTs only)<br>Pet deposit (Equivalent to two week's rent in addition to your deposit (as listed above)) (Non ASTs only)<br>Tenancy Agreement fee (£276 inclusive of VAT) (Non ASTs only)<br>Reference fee payable by each tenant/guarantor (£48 inclusive of VAT) (Non ASTs only)<br>Permitted occupant check fee payable by each permitted occupier over the age of 18 (£24 inclusive of VAT) (Non ASTs only)<br>Bank reference fee (refer to your bank as charges vary) (Non ASTs only)<br>Stamp Duty (on tenancies that amount to over £125,000) (Non ASTs only)<br><br>During the tenancy:<br>Amendment fee for contract negotiation, amending terms and updating your tenancy agreement during your tenancy (£600 inclusive of VAT) (non ASTs only)<br>Utilities (gas, electricity, water and telephone)<br>Council Tax<br>Television licence<br>Installation of cable/satellite (if permitted and applicable)<br>Subscription to cable/satellite supplier<br>Insurance (for your personal and own contents)<br>Garden maintenance<br><br>Ending your tenancy:<br>Cleaning of the property<br>Inventory check-out (Non ASTs only)<br>Check out arrangement fee (£60 inclusive of VAT) (Non ASTs only)<br>Dilapidations (as agreed)<br><br>Other fees:<br>Unpaid rent/returned payments (Interest will be charged at 4% above the Bank of England Base Rate from the date due) (Non ASTs only)<br>Arrears letter charge (£24 per letter sent) (Non ASTs only)<br><br>Knight Frank are members of the Property Redress Scheme (Consumer Redress Scheme) and RICS Dispute Resolution Service (Business Redress Scheme) and have Client Money protection with RICS Client Money Protection Scheme.\", 'longitude': -0.155482, 'thumbnail_url': 'https://lid.zoocdn.com/80/60/0243efe25e1a35938824f1fed1300241cd8ae9ce.jpg', 'description': 'Located on a sought after road and occupying a 2 acre site, a bespoke family home with the accommodation predominantly arranged over three floors with the benefit of a substantial, self-contained staff lodge.The luxurious entrance hall of this stunning home, has a glass lift to each floor.From the impressive entrance hall, there is the formal sitting and dining room that overlooks the magnificent grounds, that opens onto the breakfast room and in turn opens onto the kitchen.On the first floor there is the master suite with bathroom, four further suites each with en suite bathrooms whilst to the top floor there is a magnificent home office with panoramic views over the gardens and Hampstead Heath beyond.The leisure facilities have been thoughtfully designed and the swimming pool opens on to the garden whilst there are full spa facilities behind.There is also a home gymnasium and billiards room.The staff lodge extends to approx. 4,400sqft and there is garaging below for approx. 4 cars as well as ample off street parking to the front of the house.The landscaped gardens are in excess of two acres and the gardens offer a serene oasis within this sought after location with the additional benefit of a tennis court', 'post_town': 'London', 'details_url': 'https://www.zoopla.co.uk/for-sale/details/53120999?utm_source=v1:-K2HGiLYWh3J-0Sob747rTb0NQU91rDW&utm_medium=api', 'short_description': 'Exceptional Contemporary Mansion in Highgate - Located on a sought after road and occupying a 2 acre site, a bespoke family home with the accommodation predominantly arranged over three floors with the benefit of a substantial, self-contained staff lodge.', 'outcode': 'N6', 'image_645_430_url': 'https://lid.zoocdn.com/645/430/0243efe25e1a35938824f1fed1300241cd8ae9ce.jpg', 'county': 'London', 'price': '40000000', 'listing_id': '53120999', 'image_caption': 'Picture No. 37', 'image_80_60_url': 'https://lid.zoocdn.com/80/60/0243efe25e1a35938824f1fed1300241cd8ae9ce.jpg', 'status': 'for_sale', 'agent_name': 'Knight Frank - Hampstead', 'num_recepts': '0', 'country': 'England', 'first_published_date': '2019-10-23 15:36:57', 'displayable_address': 'Merton Lane, London N6', 'floor_plan': ['https://lc.zoocdn.com/4bd7c1b32274547893af3d3de7f44afaef7f5c6c.pdf'], 'street_name': 'Merton Lane', 'num_bathrooms': '0', 'agent_logo': 'https://st.zoocdn.com/zoopla_static_agent_logo_(131837).png', 'price_change': [{'direction': '', 'date': '2019-10-23 15:35:19', 'percent': '0%', 'price': '40000000'}], 'agent_phone': '020 8022 5635', 'image_354_255_url': 'https://lid.zoocdn.com/354/255/0243efe25e1a35938824f1fed1300241cd8ae9ce.jpg', 'image_url': 'https://lid.zoocdn.com/354/255/0243efe25e1a35938824f1fed1300241cd8ae9ce.jpg', 'last_published_date': '2019-11-13 09:36:46'}, {'country_code': 'gb', 'num_floors': '0', 'image_150_113_url': 'https://lid.zoocdn.com/150/113/5c5d6612875e3b3851655f75bde5748777ef1b49.jpg', 'listing_status': 'sale', 'num_bedrooms': '10', 'location_is_approximate': 0, 'image_50_38_url': 'https://lid.zoocdn.com/50/38/5c5d6612875e3b3851655f75bde5748777ef1b49.jpg', 'latitude': 51.567356, 'furnished_state': None, 'agent_address': '77-79 Ebury Street, London', 'category': 'Residential', 'property_type': 'Detached house', 'letting_fees': 'Existing ast’s and all non ast’s - no administration fees!<br><br>Pet deposit: Returnable additional security deposit of two weeks rent.<br><h3 class=\"listing-desc-header top\"><strong>After you move in - inventory check-out</strong></h3><br>Dependent on the number of bedrooms and/or size of the property and outbuildings.<br><h3 class=\"listing-desc-header top\"><strong><br>Unfurnished flats<br>make check-in check-out comb make check-in</strong></h3><br>£ £ £ £<br>1 bed bed bed bed (+) quoted on an individual basis<br><h3 class=\"listing-desc-header top\"><strong><br>Unfurnished houses<br>make check-in check-out comb make check-in</strong></h3><br>£ £ £ £<br>1 bed bed bed bed (+) quoted on an individual basis<br><h3 class=\"listing-desc-header top\"><strong><br>Furnished flats<br>make check-in check-out comb make check-in</strong></h3><br>£ £ £ £<br>1 bed bed bed bed (+) quoted on an individual basis<br><h3 class=\"listing-desc-header top\"><strong><br>Furnished houses<br>make check-in check-out comb make check-in</strong></h3><br>£ £ £ £<br>1 bed bed bed bed (+) quoted on an individual basis<br><br>new ASTs signed on or after 1 June 2019<br>Holding Deposit (per tenancy) - One week’s rent.<br>Security Deposit (per tenancy rent under £50,000 per year) - Five week’s rent.<br>Security Deposit (per tenancy rent of £50,000 or over per year) - Six week’s rent.<br>Unpaid Rent - Interest at 0.75% above the Bank of England Base Rate as outlined in the Tenancy Agreement<br>Lost Key(s) or other Security Device(s) - Tenants are liable to the actual cost of replacing any lost key(s) or other security device(s). If the loss results in locks needing to be changed, the actual costs of a locksmith, new lock and replacement keys for the tenant, landlord any other persons requiring keys will be charged to the tenant.<br>Early Termination (Tenant’s Request) - Should the tenant wish to leave their contract early, they shall be liable to the landlord’s costs in re-letting the property as well as all rent due under the tenancy until the start date of the replacement tenancy. These costs will be no more than the maximum amount of rent outstanding on the tenancy.<br><br>UK Sotheby\\'s International Realty is a member of the Client Money Protection Scheme and our redress scheme for consumers is The Property Ombudsman.<br><h3 class=\"listing-desc-header top\"><strong><br></strong></h3>', 'longitude': -0.155018, 'thumbnail_url': 'https://lid.zoocdn.com/80/60/5c5d6612875e3b3851655f75bde5748777ef1b49.jpg', 'description': 'Exceptional contemporary mansion in HighgateLocated on a sought-after road in the heart of Highgate and occupying a two-acre site, a bespoke family home with the accommodation predominantly arranged over three floors with the benefit of a substantial, self-contained staff lodge. The luxurious entrance hall of this stunning home has a glass lift to each floor. From the impressive entrance hall, there is the formal sitting and dining room that overlooks the magnificent grounds, that opens onto the breakfast room and in turn opens onto the kitchen.On the first floor is the master suite with bathroom, four further suites each with en suite bathrooms whilst to the top floor there is a magnificent home office with panoramic views over the gardens and Hampstead Heath beyond. The leisure facilities have been thoughtfully designed and the swimming pool opens onto the garden whilst there are full spa facilities behind. There is also a home gymnasium and billiards room.The staff lodge extends to approximately 4,400 sq ft and there is garaging below for approximately four cars. The landscaped gardens are in excess of two acres and the gardens offer a serene oasis within this sought-after location with the additional benefit of a tennis court.', 'post_town': 'London', 'details_url': 'https://www.zoopla.co.uk/for-sale/details/53112425?utm_source=v1:-K2HGiLYWh3J-0Sob747rTb0NQU91rDW&utm_medium=api', 'short_description': 'Located on a sought-after road in the heart of Highgate and occupying a two-acre site, a bespoke family home with the accommodation predominantly arranged over three floors with the benefit of a substantial, self-contained staff lodge. (contd...)', 'outcode': 'N6', 'image_645_430_url': 'https://lid.zoocdn.com/645/430/5c5d6612875e3b3851655f75bde5748777ef1b49.jpg', 'county': 'London', 'price': 0, 'listing_id': '53112425', 'image_caption': 'Picture No. 82', 'image_80_60_url': 'https://lid.zoocdn.com/80/60/5c5d6612875e3b3851655f75bde5748777ef1b49.jpg', 'status': 'for_sale', 'agent_name': \"UK Sotheby's International Realty - London\", 'num_recepts': '0', 'country': 'England', 'first_published_date': '2019-10-22 22:08:40', 'displayable_address': 'Merton Lane, London N6', 'price_modifier': 'price_on_request', 'floor_plan': ['https://lc.zoocdn.com/2a206e3e7aa392c751df265f7793058598964998.jpg', 'https://lc.zoocdn.com/6ab70271046f367399e1db6cb18c5fc7a04edf4f.jpg', 'https://lc.zoocdn.com/b41fe8c5c94ce3ae3c7f3ab20543f75a594c6543.jpg', 'https://lc.zoocdn.com/b1097b4f8cd49db3f8f5ee84ba753b88bb719eb8.jpg'], 'street_name': 'London', 'num_bathrooms': '7', 'agent_logo': 'https://st.zoocdn.com/zoopla_static_agent_logo_(525633).png', 'price_change': [{'direction': '', 'date': '2019-10-22 17:45:04', 'percent': '0%', 'price': '40000000'}], 'agent_phone': '020 3589 1594', 'image_354_255_url': 'https://lid.zoocdn.com/354/255/5c5d6612875e3b3851655f75bde5748777ef1b49.jpg', 'image_url': 'https://lid.zoocdn.com/354/255/5c5d6612875e3b3851655f75bde5748777ef1b49.jpg', 'last_published_date': '2019-10-24 22:30:42'}, {'country_code': 'gb', 'num_floors': '0', 'image_150_113_url': 'https://lid.zoocdn.com/150/113/1e3a18fe435f10fdc382cb10f350800daf64fa03.jpg', 'listing_status': 'sale', 'num_bedrooms': '98', 'location_is_approximate': 0, 'image_50_38_url': 'https://lid.zoocdn.com/50/38/1e3a18fe435f10fdc382cb10f350800daf64fa03.jpg', 'latitude': 51.49218, 'furnished_state': None, 'agent_address': '106 Great Portland Street, London', 'category': 'Residential', 'property_type': '', 'letting_fees': 'Before the tenancy starts (payable to [The Cloister] ‘the Agent’)<br>Holding Deposit: 1 week’s rent<br>Deposit: 5 weeks’ rent or if over £50,000 it will be 6 weeks rentDuring the tenancy (payable to the Agent)Payment of £50.00 if you want to change the tenancy agreementPayment of £50.00 for the reasonably incurred costs for the loss of keys/security devicesPayment of any unpaid rent or other reasonable costs associated with your early termination of the tenancy', 'longitude': -0.19006, 'thumbnail_url': 'https://lid.zoocdn.com/80/60/1e3a18fe435f10fdc382cb10f350800daf64fa03.jpg', 'description': \"An excellent investment opportunity consisting of a portfolio of four period buildings with a combined total gia of 30,199 square feet. The portfolio is currently operated as a hostel with 98 rooms (440 beds). One of these buildings has planning permission (already activated) to convert to seven apartments with a total gia of 7,572 square feet. Subject to the necessary planning permissions, the site offers excellent development potential including conversion to residential apartments, serviced apartments or purpose-built student accommodation.The portfolio is ideally situated in the heart of prestigious South Kensington, widely recognised as one of London's finest addresses and is perfectly located for the sites and amenities of Kensington, Knightsbridge, Notting Hill and Chelsea. A short distance away are the Natural History, Science, and Victoria and Albert museums, the Royal Albert Hall, Hyde Park, the famous Portobello Road market, Harrods, Harvey Nicolls and flagship stores of many of the world's leading fashion houses. Travel into central London and the West End is quick and easy with Earl's Court London Underground station close by together with an excellent bus service.\", 'post_town': 'London', 'details_url': 'https://www.zoopla.co.uk/for-sale/details/52111230?utm_source=v1:-K2HGiLYWh3J-0Sob747rTb0NQU91rDW&utm_medium=api', 'short_description': 'An excellent investment opportunity consisting of a portfolio of four period buildings with a combined gia of 30,199 square feet', 'outcode': 'SW5', 'image_645_430_url': 'https://lid.zoocdn.com/645/430/1e3a18fe435f10fdc382cb10f350800daf64fa03.jpg', 'county': 'London', 'price': '38000000', 'listing_id': '52111230', 'image_caption': '', 'image_80_60_url': 'https://lid.zoocdn.com/80/60/1e3a18fe435f10fdc382cb10f350800daf64fa03.jpg', 'status': 'for_sale', 'agent_name': 'The Cloister', 'num_recepts': '0', 'country': 'England', 'first_published_date': '2019-07-16 12:45:03', 'displayable_address': 'Barkston Gardens, London SW5', 'street_name': 'Courtfield Gardens', 'num_bathrooms': '0', 'agent_logo': 'https://st.zoocdn.com/zoopla_static_agent_logo_(59012).jpeg', 'price_change': [{'direction': '', 'date': '2019-07-16 11:41:01', 'percent': '0%', 'price': '35000000'}, {'direction': 'up', 'date': '2019-11-12 18:01:35', 'percent': '8.5%', 'price': '38000000'}], 'agent_phone': '020 8115 9868', 'image_354_255_url': 'https://lid.zoocdn.com/354/255/1e3a18fe435f10fdc382cb10f350800daf64fa03.jpg', 'image_url': 'https://lid.zoocdn.com/354/255/1e3a18fe435f10fdc382cb10f350800daf64fa03.jpg', 'last_published_date': '2019-11-27 10:17:14', 'price_change_summary': {'direction': 'up', 'percent': '8.5%', 'last_updated_date': '2019-11-12 18:01:35'}}]), ('street', ''), ('town', ''), ('latitude', 51.4848955), ('county', 'London'), ('bounding_box', {'longitude_min': '-0.529094', 'latitude_min': '51.277293', 'longitude_max': '0.159807', 'latitude_max': '51.692498'}), ('postcode', '')])"
      ]
     },
     "execution_count": 129,
     "metadata": {},
     "output_type": "execute_result"
    }
   ],
   "source": [
    "data.items()"
   ]
  },
  {
   "cell_type": "code",
   "execution_count": 130,
   "metadata": {},
   "outputs": [
    {
     "data": {
      "text/plain": [
       "{'country': 'England',\n",
       " 'result_count': 102617,\n",
       " 'longitude': -0.1846435,\n",
       " 'area_name': '',\n",
       " 'listing': [{'country_code': 'gb',\n",
       "   'num_floors': '6',\n",
       "   'image_150_113_url': 'https://lid.zoocdn.com/150/113/0d4f63d83077588bf82306da9c853e793d24152d.jpg',\n",
       "   'listing_status': 'sale',\n",
       "   'num_bedrooms': '0',\n",
       "   'location_is_approximate': 0,\n",
       "   'image_50_38_url': 'https://lid.zoocdn.com/50/38/0d4f63d83077588bf82306da9c853e793d24152d.jpg',\n",
       "   'latitude': 51.512596,\n",
       "   'furnished_state': None,\n",
       "   'agent_address': '50 Old Church Street, Chelsea',\n",
       "   'category': 'Residential',\n",
       "   'property_type': 'Block of flats',\n",
       "   'letting_fees': 'Standard fees:<br>Administration fee: £350 incl VAT per tenancy agreement per long let<br>£150 incl VAT per tenancy agreement for short let<br>Tenant or Guarantor referencing fee: £60 incl VAT per tenant or guarantor<br>Tenancy renewal fee: £120 incl VAT per renewal<br>Contribution to Inventory cost: £130 incl VAT',\n",
       "   'longitude': -0.172754,\n",
       "   'floor_area': {'min_floor_area': {'value': '110000', 'units': 'sq_feet'}},\n",
       "   'thumbnail_url': 'https://lid.zoocdn.com/80/60/0d4f63d83077588bf82306da9c853e793d24152d.jpg',\n",
       "   'description': 'London W2Excellent opportunity to acquiry this substantial stucco fronted corner building with panoramic views of Hyde Park.This building is arranged over five floors and basements.Moments to Hyde Park, Queensway and Bayswater Underground Stations and within easy reach of the many excellent shopping, restaurants, banks and transport facilities of Oxford Street and West End.FreeholdAsking price: £225million. Subject to ContractBrochure and information on request',\n",
       "   'post_town': 'London',\n",
       "   'details_url': 'https://www.zoopla.co.uk/for-sale/details/52686069?utm_source=v1:-K2HGiLYWh3J-0Sob747rTb0NQU91rDW&utm_medium=api',\n",
       "   'short_description': 'Great rental investmentopportunity in hyde park. W2. Close to bayswater, queensway, oxford street.',\n",
       "   'outcode': 'W2',\n",
       "   'image_645_430_url': 'https://lid.zoocdn.com/645/430/0d4f63d83077588bf82306da9c853e793d24152d.jpg',\n",
       "   'county': 'London',\n",
       "   'price': '225000000',\n",
       "   'listing_id': '52686069',\n",
       "   'image_caption': '',\n",
       "   'image_80_60_url': 'https://lid.zoocdn.com/80/60/0d4f63d83077588bf82306da9c853e793d24152d.jpg',\n",
       "   'status': 'for_sale',\n",
       "   'agent_name': 'Panther International Properties',\n",
       "   'num_recepts': '6',\n",
       "   'country': 'England',\n",
       "   'first_published_date': '2019-09-11 15:36:40',\n",
       "   'displayable_address': 'Hyde Park, London W2',\n",
       "   'price_modifier': 'guide_price',\n",
       "   'street_name': 'Hyde Park',\n",
       "   'num_bathrooms': '0',\n",
       "   'agent_logo': 'https://st.zoocdn.com/zoopla_static_agent_logo_(311432).png',\n",
       "   'price_change': [{'direction': '',\n",
       "     'date': '2019-09-11 15:35:10',\n",
       "     'percent': '0%',\n",
       "     'price': '225000000'}],\n",
       "   'agent_phone': '020 8115 2521',\n",
       "   'image_354_255_url': 'https://lid.zoocdn.com/354/255/0d4f63d83077588bf82306da9c853e793d24152d.jpg',\n",
       "   'image_url': 'https://lid.zoocdn.com/354/255/0d4f63d83077588bf82306da9c853e793d24152d.jpg',\n",
       "   'last_published_date': '2019-10-20 21:33:12'},\n",
       "  {'country_code': 'gb',\n",
       "   'num_floors': '0',\n",
       "   'image_150_113_url': 'https://lid.zoocdn.com/150/113/fd49855d55ea0eef657721d7ba17055a75f93f69.jpg',\n",
       "   'listing_status': 'sale',\n",
       "   'num_bedrooms': '5',\n",
       "   'location_is_approximate': 0,\n",
       "   'image_50_38_url': 'https://lid.zoocdn.com/50/38/fd49855d55ea0eef657721d7ba17055a75f93f69.jpg',\n",
       "   'latitude': 51.500614,\n",
       "   'furnished_state': None,\n",
       "   'agent_address': '160 Ebury Street (Corner Of Eaton Terrace), Belgravia, London',\n",
       "   'category': 'Residential',\n",
       "   'property_type': 'Town house',\n",
       "   'letting_fees': 'Referencing fee: £50<br>Tenancy Agreement Fee: £180<br>Inventory Charge: Subject to separate agreement with inventory check company and tenant',\n",
       "   'longitude': -0.156462,\n",
       "   'thumbnail_url': 'https://lid.zoocdn.com/80/60/fd49855d55ea0eef657721d7ba17055a75f93f69.jpg',\n",
       "   'description': 'A freehold un-modernised house and mews house overlooking the beautiful garden square.This large family house includes garaging, 5 spacious bedroom suites, 3 principal reception/entertaining rooms & staff accommodation.',\n",
       "   'post_town': 'London',\n",
       "   'details_url': 'https://www.zoopla.co.uk/for-sale/details/38531242?utm_source=v1:-K2HGiLYWh3J-0Sob747rTb0NQU91rDW&utm_medium=api',\n",
       "   'short_description': 'A freehold un-modernised house and mews house overlooking the beautiful garden square.',\n",
       "   'outcode': 'SW1X',\n",
       "   'image_645_430_url': 'https://lid.zoocdn.com/645/430/fd49855d55ea0eef657721d7ba17055a75f93f69.jpg',\n",
       "   'county': 'London',\n",
       "   'price': 0,\n",
       "   'listing_id': '38531242',\n",
       "   'image_caption': '',\n",
       "   'image_80_60_url': 'https://lid.zoocdn.com/80/60/fd49855d55ea0eef657721d7ba17055a75f93f69.jpg',\n",
       "   'status': 'for_sale',\n",
       "   'agent_name': 'Wellbelove Quested',\n",
       "   'num_recepts': '3',\n",
       "   'country': 'England',\n",
       "   'first_published_date': '2015-10-30 15:00:00',\n",
       "   'displayable_address': 'Wilton Crescent, London SW1X',\n",
       "   'price_modifier': 'price_on_request',\n",
       "   'street_name': 'Wilton Crescent',\n",
       "   'num_bathrooms': '5',\n",
       "   'agent_logo': 'https://st.zoocdn.com/zoopla_static_agent_logo_(274908).png',\n",
       "   'price_change': [{'direction': '',\n",
       "     'date': '2015-10-30 14:58:05',\n",
       "     'percent': '0%',\n",
       "     'price': '100000000'}],\n",
       "   'agent_phone': '020 8115 2445',\n",
       "   'image_354_255_url': 'https://lid.zoocdn.com/354/255/fd49855d55ea0eef657721d7ba17055a75f93f69.jpg',\n",
       "   'image_url': 'https://lid.zoocdn.com/354/255/fd49855d55ea0eef657721d7ba17055a75f93f69.jpg',\n",
       "   'last_published_date': '2019-09-10 15:24:27'},\n",
       "  {'country_code': 'gb',\n",
       "   'num_floors': '5',\n",
       "   'image_150_113_url': 'https://lid.zoocdn.com/150/113/dd24f26dd9f80baf2a04d971911be686228aa10f.jpg',\n",
       "   'listing_status': 'sale',\n",
       "   'num_bedrooms': '10',\n",
       "   'location_is_approximate': 0,\n",
       "   'image_50_38_url': 'https://lid.zoocdn.com/50/38/dd24f26dd9f80baf2a04d971911be686228aa10f.jpg',\n",
       "   'latitude': 51.498245,\n",
       "   'furnished_state': None,\n",
       "   'agent_address': '50 Old Church Street, Chelsea',\n",
       "   'category': 'Residential',\n",
       "   'property_type': 'Terraced house',\n",
       "   'letting_fees': 'Standard fees:<br>Administration fee: £350 incl VAT per tenancy agreement per long let<br>£150 incl VAT per tenancy agreement for short let<br>Tenant or Guarantor referencing fee: £60 incl VAT per tenant or guarantor<br>Tenancy renewal fee: £120 incl VAT per renewal<br>Contribution to Inventory cost: £130 incl VAT',\n",
       "   'longitude': -0.14032888,\n",
       "   'floor_area': {'min_floor_area': {'value': '19800', 'units': 'sq_feet'}},\n",
       "   'thumbnail_url': 'https://lid.zoocdn.com/80/60/dd24f26dd9f80baf2a04d971911be686228aa10f.jpg',\n",
       "   'description': 'Belgrave square - londonFantastic and Unique Opportunity. An excellent opportunity to acquire this Grade II Listed house on 5 floors with lift, 10 bedrooms, 8 bathrooms and 4 reception rooms.Only a short walk to many excellent local boutique shops, bars and restaurants of Motcomb Street and the many transport facilities, shops and departments stores of Sloane Square and Knightsbridge.Area aprox: 19,800 sq ftFreeholdAsking price: £82.5million. Subject to ContractPlease call or e-mail us to arrange a visit.Brochure and information on request',\n",
       "   'post_town': None,\n",
       "   'details_url': 'https://www.zoopla.co.uk/for-sale/details/50874217?utm_source=v1:-K2HGiLYWh3J-0Sob747rTb0NQU91rDW&utm_medium=api',\n",
       "   'short_description': 'Stunning house exceptionally located. Close to Sloane Square, Knightsbridge and Park Lane.',\n",
       "   'outcode': 'SW1',\n",
       "   'image_645_430_url': 'https://lid.zoocdn.com/645/430/dd24f26dd9f80baf2a04d971911be686228aa10f.jpg',\n",
       "   'county': None,\n",
       "   'price': '82500000',\n",
       "   'listing_id': '50874217',\n",
       "   'image_caption': '',\n",
       "   'image_80_60_url': 'https://lid.zoocdn.com/80/60/dd24f26dd9f80baf2a04d971911be686228aa10f.jpg',\n",
       "   'status': 'for_sale',\n",
       "   'agent_name': 'Panther International Properties',\n",
       "   'num_recepts': '4',\n",
       "   'country': None,\n",
       "   'first_published_date': '2019-03-20 23:17:11',\n",
       "   'displayable_address': 'Belgrave Square, Belgravia SW1',\n",
       "   'street_name': 'Belgrave Square',\n",
       "   'num_bathrooms': '8',\n",
       "   'agent_logo': 'https://st.zoocdn.com/zoopla_static_agent_logo_(311432).png',\n",
       "   'price_change': [{'direction': '',\n",
       "     'date': '2019-03-20 23:16:07',\n",
       "     'percent': '0%',\n",
       "     'price': '80000000'},\n",
       "    {'direction': 'up',\n",
       "     'date': '2019-05-08 23:31:05',\n",
       "     'percent': '3.1%',\n",
       "     'price': '82500000'}],\n",
       "   'agent_phone': '020 8115 2521',\n",
       "   'image_354_255_url': 'https://lid.zoocdn.com/354/255/dd24f26dd9f80baf2a04d971911be686228aa10f.jpg',\n",
       "   'image_url': 'https://lid.zoocdn.com/354/255/dd24f26dd9f80baf2a04d971911be686228aa10f.jpg',\n",
       "   'last_published_date': '2019-10-20 21:37:38',\n",
       "   'price_change_summary': {'direction': 'up',\n",
       "    'percent': '3.1%',\n",
       "    'last_updated_date': '2019-05-08 23:31:05'}},\n",
       "  {'country_code': 'gb',\n",
       "   'num_floors': '4',\n",
       "   'image_150_113_url': 'https://lid.zoocdn.com/150/113/4030637f0fd080db9e7d09cdc9982f3749be2f06.jpg',\n",
       "   'listing_status': 'sale',\n",
       "   'num_bedrooms': '12',\n",
       "   'location_is_approximate': 0,\n",
       "   'image_50_38_url': 'https://lid.zoocdn.com/50/38/4030637f0fd080db9e7d09cdc9982f3749be2f06.jpg',\n",
       "   'latitude': 51.498245,\n",
       "   'furnished_state': None,\n",
       "   'agent_address': '50 Old Church Street, Chelsea',\n",
       "   'category': 'Residential',\n",
       "   'property_type': 'Link-detached house',\n",
       "   'letting_fees': 'Standard fees:<br>Administration fee: £350 incl VAT per tenancy agreement per long let<br>£150 incl VAT per tenancy agreement for short let<br>Tenant or Guarantor referencing fee: £60 incl VAT per tenant or guarantor<br>Tenancy renewal fee: £120 incl VAT per renewal<br>Contribution to Inventory cost: £130 incl VAT',\n",
       "   'longitude': -0.14032888,\n",
       "   'floor_area': {'min_floor_area': {'value': '16500', 'units': 'sq_feet'}},\n",
       "   'thumbnail_url': 'https://lid.zoocdn.com/80/60/4030637f0fd080db9e7d09cdc9982f3749be2f06.jpg',\n",
       "   'description': 'Belgrave square - londonAn excellent opportunity to acquire this Grade II Listed house on 4 floors.Magnificent views and overlooking Belgrave Square.Only a short walk to many excellent local boutique shops, bars and restaurants of Motcomb Street and the many transport facilities, shops and departments stores of Sloane Square and Knightsbridge. Moments to Park Lane.Area aprox: 16,500 sq ftFreeholdAsking price: £67.5million. Subject to ContractPlease call or e-mail us to arrange a visit.Brochure and information on request',\n",
       "   'post_town': None,\n",
       "   'details_url': 'https://www.zoopla.co.uk/for-sale/details/53394525?utm_source=v1:-K2HGiLYWh3J-0Sob747rTb0NQU91rDW&utm_medium=api',\n",
       "   'short_description': 'Opulenbt style and exceptionally located freehold house. Close to Knightsbridge, Sloane Square and Park Lane.',\n",
       "   'outcode': 'SW1',\n",
       "   'image_645_430_url': 'https://lid.zoocdn.com/645/430/4030637f0fd080db9e7d09cdc9982f3749be2f06.jpg',\n",
       "   'county': None,\n",
       "   'price': '67500000',\n",
       "   'listing_id': '53394525',\n",
       "   'image_caption': '',\n",
       "   'image_80_60_url': 'https://lid.zoocdn.com/80/60/4030637f0fd080db9e7d09cdc9982f3749be2f06.jpg',\n",
       "   'status': 'for_sale',\n",
       "   'agent_name': 'Panther International Properties',\n",
       "   'num_recepts': '4',\n",
       "   'country': None,\n",
       "   'first_published_date': '2019-11-20 13:06:00',\n",
       "   'displayable_address': 'Belgrave Square, London Belgravia SW1',\n",
       "   'street_name': 'Belgrave Square',\n",
       "   'num_bathrooms': '8',\n",
       "   'agent_logo': 'https://st.zoocdn.com/zoopla_static_agent_logo_(311432).png',\n",
       "   'price_change': [{'direction': '',\n",
       "     'date': '2019-11-20 13:05:17',\n",
       "     'percent': '0%',\n",
       "     'price': '67500000'}],\n",
       "   'agent_phone': '020 8115 2521',\n",
       "   'image_354_255_url': 'https://lid.zoocdn.com/354/255/4030637f0fd080db9e7d09cdc9982f3749be2f06.jpg',\n",
       "   'image_url': 'https://lid.zoocdn.com/354/255/4030637f0fd080db9e7d09cdc9982f3749be2f06.jpg',\n",
       "   'last_published_date': '2019-11-20 13:06:00'},\n",
       "  {'country_code': 'gb',\n",
       "   'num_floors': '6',\n",
       "   'image_150_113_url': 'https://lid.zoocdn.com/150/113/12490e84bc50d74d8489a16070fe7fabba2cb121.jpg',\n",
       "   'listing_status': 'sale',\n",
       "   'num_bedrooms': '0',\n",
       "   'location_is_approximate': 0,\n",
       "   'image_50_38_url': 'https://lid.zoocdn.com/50/38/12490e84bc50d74d8489a16070fe7fabba2cb121.jpg',\n",
       "   'latitude': 51.493877,\n",
       "   'furnished_state': None,\n",
       "   'agent_address': '50 Old Church Street, Chelsea',\n",
       "   'category': 'Residential',\n",
       "   'property_type': 'Block of flats',\n",
       "   'letting_fees': 'Standard fees:<br>Administration fee: £350 incl VAT per tenancy agreement per long let<br>£150 incl VAT per tenancy agreement for short let<br>Tenant or Guarantor referencing fee: £60 incl VAT per tenant or guarantor<br>Tenancy renewal fee: £120 incl VAT per renewal<br>Contribution to Inventory cost: £130 incl VAT',\n",
       "   'longitude': -0.185902,\n",
       "   'floor_area': {'min_floor_area': {'value': '36000', 'units': 'sq_feet'}},\n",
       "   'thumbnail_url': 'https://lid.zoocdn.com/80/60/f658100ffaf8b1cfa699c5b2454c90867e693d23.jpg',\n",
       "   'description': \"SW7 4DGGreat rental investment in a peaceful side street in the heart of Kensington and Chelsea Borough. Access to all the capital's mayor attractions and transport links only moments walk away.Close to many world famous museums and Cromwell Hospital. Fully interior designed apartments divided in 2 stunning buildings.FreeholdFull information on request.Please call or send e-mail to arrange a visit.\",\n",
       "   'post_town': 'London',\n",
       "   'details_url': 'https://www.zoopla.co.uk/for-sale/details/50874261?utm_source=v1:-K2HGiLYWh3J-0Sob747rTb0NQU91rDW&utm_medium=api',\n",
       "   'short_description': 'Amazing and unique opportunity for Investment in the heart of Kensington. Freehold',\n",
       "   'outcode': 'SW7',\n",
       "   'image_645_430_url': 'https://lid.zoocdn.com/645/430/12490e84bc50d74d8489a16070fe7fabba2cb121.jpg',\n",
       "   'county': 'London',\n",
       "   'price': '65000000',\n",
       "   'listing_id': '50874261',\n",
       "   'image_caption': '',\n",
       "   'image_80_60_url': 'https://lid.zoocdn.com/80/60/f658100ffaf8b1cfa699c5b2454c90867e693d23.jpg',\n",
       "   'status': 'for_sale',\n",
       "   'agent_name': 'Panther International Properties',\n",
       "   'num_recepts': '6',\n",
       "   'country': 'England',\n",
       "   'first_published_date': '2019-03-20 23:04:14',\n",
       "   'displayable_address': 'London, Kensington And Chelsea SW7',\n",
       "   'street_name': 'London',\n",
       "   'num_bathrooms': '0',\n",
       "   'agent_logo': 'https://st.zoocdn.com/zoopla_static_agent_logo_(311432).png',\n",
       "   'price_change': [{'direction': '',\n",
       "     'date': '2019-03-20 23:03:05',\n",
       "     'percent': '0%',\n",
       "     'price': '65000000'}],\n",
       "   'agent_phone': '020 8115 2521',\n",
       "   'image_354_255_url': 'https://lid.zoocdn.com/354/255/12490e84bc50d74d8489a16070fe7fabba2cb121.jpg',\n",
       "   'image_url': 'https://lid.zoocdn.com/354/255/12490e84bc50d74d8489a16070fe7fabba2cb121.jpg',\n",
       "   'last_published_date': '2019-10-20 21:45:03'},\n",
       "  {'country_code': 'gb',\n",
       "   'num_floors': '5',\n",
       "   'image_150_113_url': 'https://lid.zoocdn.com/150/113/a343b8f6e4ba648725bef39b0df67394fe25781d.jpg',\n",
       "   'listing_status': 'sale',\n",
       "   'num_bedrooms': '7',\n",
       "   'location_is_approximate': 0,\n",
       "   'image_50_38_url': 'https://lid.zoocdn.com/50/38/a343b8f6e4ba648725bef39b0df67394fe25781d.jpg',\n",
       "   'latitude': 51.509773,\n",
       "   'furnished_state': None,\n",
       "   'agent_address': '50 Old Church Street, Chelsea',\n",
       "   'category': 'Residential',\n",
       "   'property_type': 'Terraced house',\n",
       "   'letting_fees': 'Standard fees:<br>Administration fee: £350 incl VAT per tenancy agreement per long let<br>£150 incl VAT per tenancy agreement for short let<br>Tenant or Guarantor referencing fee: £60 incl VAT per tenant or guarantor<br>Tenancy renewal fee: £120 incl VAT per renewal<br>Contribution to Inventory cost: £130 incl VAT',\n",
       "   'longitude': -0.15213826,\n",
       "   'floor_area': {'min_floor_area': {'value': '13975', 'units': 'sq_feet'}},\n",
       "   'thumbnail_url': 'https://lid.zoocdn.com/80/60/a343b8f6e4ba648725bef39b0df67394fe25781d.jpg',\n",
       "   'description': 'Mayfair, London W1K.An elegant and bespoke 7 bedroom house arranged over 6 floors with lift in the heart of Mayfair. Close to Park Lane, Berkeley Square, Green Park, Oxford Street, shops, amenities and facilities of Mayfair.Asking price: £65million. Subject to ContractFreeholdArea approx: 13,975 sq ft.Brochure on request',\n",
       "   'post_town': None,\n",
       "   'details_url': 'https://www.zoopla.co.uk/for-sale/details/50874284?utm_source=v1:-K2HGiLYWh3J-0Sob747rTb0NQU91rDW&utm_medium=api',\n",
       "   'short_description': 'Stunning 7 bedroom house arranged over six floors with lift. Excellent location in the heart of Mayfair. Close to Green Park, Bond Street Underground Stations and Berkeley Square',\n",
       "   'outcode': 'W1K',\n",
       "   'image_645_430_url': 'https://lid.zoocdn.com/645/430/a343b8f6e4ba648725bef39b0df67394fe25781d.jpg',\n",
       "   'county': None,\n",
       "   'price': '65000000',\n",
       "   'listing_id': '50874284',\n",
       "   'image_caption': '',\n",
       "   'image_80_60_url': 'https://lid.zoocdn.com/80/60/a343b8f6e4ba648725bef39b0df67394fe25781d.jpg',\n",
       "   'status': 'for_sale',\n",
       "   'agent_name': 'Panther International Properties',\n",
       "   'num_recepts': '4',\n",
       "   'country': None,\n",
       "   'first_published_date': '2019-03-20 23:19:49',\n",
       "   'displayable_address': '2Ap, Mayfair W1K',\n",
       "   'street_name': 'W1K 2AP',\n",
       "   'num_bathrooms': '7',\n",
       "   'agent_logo': 'https://st.zoocdn.com/zoopla_static_agent_logo_(311432).png',\n",
       "   'price_change': [{'direction': '',\n",
       "     'date': '2019-03-20 23:19:06',\n",
       "     'percent': '0%',\n",
       "     'price': '62500000'},\n",
       "    {'direction': 'up',\n",
       "     'date': '2019-07-17 23:23:07',\n",
       "     'percent': '4%',\n",
       "     'price': '65000000'}],\n",
       "   'agent_phone': '020 8115 2521',\n",
       "   'image_354_255_url': 'https://lid.zoocdn.com/354/255/a343b8f6e4ba648725bef39b0df67394fe25781d.jpg',\n",
       "   'image_url': 'https://lid.zoocdn.com/354/255/a343b8f6e4ba648725bef39b0df67394fe25781d.jpg',\n",
       "   'last_published_date': '2019-10-20 21:44:04',\n",
       "   'price_change_summary': {'direction': 'up',\n",
       "    'percent': '4%',\n",
       "    'last_updated_date': '2019-07-17 23:23:07'}},\n",
       "  {'country_code': 'gb',\n",
       "   'num_floors': '0',\n",
       "   'image_150_113_url': 'https://lid.zoocdn.com/150/113/719cc997431202400b4798e93cabae1921553ff2.jpg',\n",
       "   'listing_status': 'sale',\n",
       "   'num_bedrooms': '8',\n",
       "   'location_is_approximate': 0,\n",
       "   'image_50_38_url': 'https://lid.zoocdn.com/50/38/719cc997431202400b4798e93cabae1921553ff2.jpg',\n",
       "   'latitude': 51.499767,\n",
       "   'furnished_state': None,\n",
       "   'agent_address': '106 Great Portland Street, London',\n",
       "   'category': 'Residential',\n",
       "   'property_type': '',\n",
       "   'letting_fees': 'Before the tenancy starts (payable to [The Cloister] ‘the Agent’)<br>Holding Deposit: 1 week’s rent<br>Deposit: 5 weeks’ rent or if over £50,000 it will be 6 weeks rentDuring the tenancy (payable to the Agent)Payment of £50.00 if you want to change the tenancy agreementPayment of £50.00 for the reasonably incurred costs for the loss of keys/security devicesPayment of any unpaid rent or other reasonable costs associated with your early termination of the tenancy',\n",
       "   'longitude': -0.141541,\n",
       "   'thumbnail_url': 'https://lid.zoocdn.com/80/60/719cc997431202400b4798e93cabae1921553ff2.jpg',\n",
       "   'description': \"Luxurious Grade II listed six-bedroom townhouse spanning 14,227 sq ft across seven floors. This fabolous property includes a outstanding fully fitted kitchen, dining room, living room, drawing room, entertainment room, media room, five dressing rooms, two courtyards, six large bedrooms with en suite bathrooms, two staff rooms, four shower rooms, four WCs, two studies, two balconies, two private terraces, utility room. The property further benefit from an array of world-class amenities, including underground parking, easy lift access, a bar, a pool, a gym, a sauna, a treatment room, two changing rooms, security and 24-hour concierge services. Buckingham Gate neighbours Buckingham Palace, one of the most exclusive locations in London, providing easy access to London's finest shops, restaurants, bars, clubs, museums, art galleries and green spaces. Particularly accessible areas from Buckingham Gate include Mayfair, Knightsbridge, Belgravia, Westminster and St James's Park. Transport links Stations within the vicinity include St James's Park (0.4 miles, Circle and District lines), Westminster station (0.7 miles, Circle, District, and Jubilee lines), and Victoria station (0.4 miles, Gatwick Express, Southern, Thameslink, Southeastern, Circle, District, and Victoria lines).\",\n",
       "   'post_town': 'London',\n",
       "   'details_url': 'https://www.zoopla.co.uk/for-sale/details/51081629?utm_source=v1:-K2HGiLYWh3J-0Sob747rTb0NQU91rDW&utm_medium=api',\n",
       "   'short_description': 'Luxurious Grade II listed six-bedroom townhouse spanning 14,227 sq ft across seven floors. Benefits include an array of world-class amenities inlcuding underground parking, easy lift access, a bar, pool, gym, sauna, treatment room and a 24h Concierge.',\n",
       "   'outcode': 'SW1E',\n",
       "   'image_645_430_url': 'https://lid.zoocdn.com/645/430/719cc997431202400b4798e93cabae1921553ff2.jpg',\n",
       "   'county': 'London',\n",
       "   'price': '55000000',\n",
       "   'listing_id': '51081629',\n",
       "   'image_caption': '',\n",
       "   'image_80_60_url': 'https://lid.zoocdn.com/80/60/719cc997431202400b4798e93cabae1921553ff2.jpg',\n",
       "   'status': 'for_sale',\n",
       "   'agent_name': 'The Cloister',\n",
       "   'num_recepts': '3',\n",
       "   'country': 'England',\n",
       "   'first_published_date': '2019-04-09 17:31:33',\n",
       "   'displayable_address': 'Buckingham Gate, London SW1E',\n",
       "   'floor_plan': ['https://lc.zoocdn.com/ea30719f66026c34c68b5f68508f7c9a89a587a1.jpg'],\n",
       "   'street_name': 'Buckingham Gate',\n",
       "   'num_bathrooms': '9',\n",
       "   'agent_logo': 'https://st.zoocdn.com/zoopla_static_agent_logo_(59012).jpeg',\n",
       "   'price_change': [{'direction': '',\n",
       "     'date': '2019-04-09 16:21:50',\n",
       "     'percent': '0%',\n",
       "     'price': '45000000'},\n",
       "    {'direction': 'up',\n",
       "     'date': '2019-06-27 11:29:54',\n",
       "     'percent': '33.3%',\n",
       "     'price': '60000000'},\n",
       "    {'direction': 'down',\n",
       "     'date': '2019-11-15 14:01:26',\n",
       "     'percent': '-8.3%',\n",
       "     'price': '55000000'}],\n",
       "   'agent_phone': '020 8115 9868',\n",
       "   'image_354_255_url': 'https://lid.zoocdn.com/354/255/719cc997431202400b4798e93cabae1921553ff2.jpg',\n",
       "   'image_url': 'https://lid.zoocdn.com/354/255/719cc997431202400b4798e93cabae1921553ff2.jpg',\n",
       "   'last_published_date': '2019-11-27 10:17:13',\n",
       "   'price_change_summary': {'direction': 'up',\n",
       "    'percent': '22.2%',\n",
       "    'last_updated_date': '2019-11-15 14:01:26'}},\n",
       "  {'country_code': 'gb',\n",
       "   'num_floors': '1',\n",
       "   'image_150_113_url': 'https://lid.zoocdn.com/150/113/0243efe25e1a35938824f1fed1300241cd8ae9ce.jpg',\n",
       "   'listing_status': 'sale',\n",
       "   'num_bedrooms': '10',\n",
       "   'location_is_approximate': 0,\n",
       "   'image_50_38_url': 'https://lid.zoocdn.com/50/38/0243efe25e1a35938824f1fed1300241cd8ae9ce.jpg',\n",
       "   'latitude': 51.566948,\n",
       "   'furnished_state': None,\n",
       "   'agent_address': '58-62 Heath Street, Hampstead, London',\n",
       "   'category': 'Residential',\n",
       "   'property_type': 'Detached house',\n",
       "   'letting_fees': \"Tenant charges<br><br>ASTs<br>Holding deposits (per tenancy) One week's rent (ASTs only)<br>Rent<br>Deposit (if rent is under £50,000 per annum) Equivalent to five week's rent<br>Deposit (if rent is between £50,000 and £100,000 per annum) Equivalent to six week's rent<br>Utilities, communication service, council tax and TV Licences<br>Variation of contract at the tenants request (£50 inclusive of VAT) (ASTs only)<br>Change of sharer at the tenant's request (£50 inclusive of VAT per replacement tenant or any reasonable costs incurred if higher) (ASTs only)<br>Early termination at the tenant's request - Should the tenant wish to leave their contract early, they shall be liable to the landlords costs in re-letting the property as well as all rent due under the tenancy until the start date of the replacement tenancy. These costs will be no more than the maximum amount of rent outstanding on the tenancy. (ASTs only)<br>Unpaid rent/returned payments - Interest will be charged at 3% above the Bank of England Base Rate from rent due date until paid in order to pursue non-payment of rent. Please note: This will not be levied until the rent is more than 14 days in arrears.<br>Lost Keys or other security devices - Tenants are liable for the actual cost of replacing any lost keys or other security devices. If the loss results in locks needing to be changed, the actual cost of the locksmith, new lock and replacement keys will be charged to the tenant. If extra costs are incurred there will be a charge of £15 per hour (inclusive of VAT) for the time taken replacing the lost keys of other security devices.<br><br>Non ASTs<br>Before the tenancy starts:<br>Holding Deposit (Equivalent to two weeks' rent) (Non ASTs only)<br>Deposit (Equivalent to six week's rent (unless agreed otherwise)) (Non ASTs only)<br>Pet deposit (Equivalent to two week's rent in addition to your deposit (as listed above)) (Non ASTs only)<br>Tenancy Agreement fee (£276 inclusive of VAT) (Non ASTs only)<br>Reference fee payable by each tenant/guarantor (£48 inclusive of VAT) (Non ASTs only)<br>Permitted occupant check fee payable by each permitted occupier over the age of 18 (£24 inclusive of VAT) (Non ASTs only)<br>Bank reference fee (refer to your bank as charges vary) (Non ASTs only)<br>Stamp Duty (on tenancies that amount to over £125,000) (Non ASTs only)<br><br>During the tenancy:<br>Amendment fee for contract negotiation, amending terms and updating your tenancy agreement during your tenancy (£600 inclusive of VAT) (non ASTs only)<br>Utilities (gas, electricity, water and telephone)<br>Council Tax<br>Television licence<br>Installation of cable/satellite (if permitted and applicable)<br>Subscription to cable/satellite supplier<br>Insurance (for your personal and own contents)<br>Garden maintenance<br><br>Ending your tenancy:<br>Cleaning of the property<br>Inventory check-out (Non ASTs only)<br>Check out arrangement fee (£60 inclusive of VAT) (Non ASTs only)<br>Dilapidations (as agreed)<br><br>Other fees:<br>Unpaid rent/returned payments (Interest will be charged at 4% above the Bank of England Base Rate from the date due) (Non ASTs only)<br>Arrears letter charge (£24 per letter sent) (Non ASTs only)<br><br>Knight Frank are members of the Property Redress Scheme (Consumer Redress Scheme) and RICS Dispute Resolution Service (Business Redress Scheme) and have Client Money protection with RICS Client Money Protection Scheme.\",\n",
       "   'longitude': -0.155482,\n",
       "   'thumbnail_url': 'https://lid.zoocdn.com/80/60/0243efe25e1a35938824f1fed1300241cd8ae9ce.jpg',\n",
       "   'description': 'Located on a sought after road and occupying a 2 acre site, a bespoke family home with the accommodation predominantly arranged over three floors with the benefit of a substantial, self-contained staff lodge.The luxurious entrance hall of this stunning home, has a glass lift to each floor.From the impressive entrance hall, there is the formal sitting and dining room that overlooks the magnificent grounds, that opens onto the breakfast room and in turn opens onto the kitchen.On the first floor there is the master suite with bathroom, four further suites each with en suite bathrooms whilst to the top floor there is a magnificent home office with panoramic views over the gardens and Hampstead Heath beyond.The leisure facilities have been thoughtfully designed and the swimming pool opens on to the garden whilst there are full spa facilities behind.There is also a home gymnasium and billiards room.The staff lodge extends to approx. 4,400sqft and there is garaging below for approx. 4 cars as well as ample off street parking to the front of the house.The landscaped gardens are in excess of two acres and the gardens offer a serene oasis within this sought after location with the additional benefit of a tennis court',\n",
       "   'post_town': 'London',\n",
       "   'details_url': 'https://www.zoopla.co.uk/for-sale/details/53120999?utm_source=v1:-K2HGiLYWh3J-0Sob747rTb0NQU91rDW&utm_medium=api',\n",
       "   'short_description': 'Exceptional Contemporary Mansion in Highgate - Located on a sought after road and occupying a 2 acre site, a bespoke family home with the accommodation predominantly arranged over three floors with the benefit of a substantial, self-contained staff lodge.',\n",
       "   'outcode': 'N6',\n",
       "   'image_645_430_url': 'https://lid.zoocdn.com/645/430/0243efe25e1a35938824f1fed1300241cd8ae9ce.jpg',\n",
       "   'county': 'London',\n",
       "   'price': '40000000',\n",
       "   'listing_id': '53120999',\n",
       "   'image_caption': 'Picture No. 37',\n",
       "   'image_80_60_url': 'https://lid.zoocdn.com/80/60/0243efe25e1a35938824f1fed1300241cd8ae9ce.jpg',\n",
       "   'status': 'for_sale',\n",
       "   'agent_name': 'Knight Frank - Hampstead',\n",
       "   'num_recepts': '0',\n",
       "   'country': 'England',\n",
       "   'first_published_date': '2019-10-23 15:36:57',\n",
       "   'displayable_address': 'Merton Lane, London N6',\n",
       "   'floor_plan': ['https://lc.zoocdn.com/4bd7c1b32274547893af3d3de7f44afaef7f5c6c.pdf'],\n",
       "   'street_name': 'Merton Lane',\n",
       "   'num_bathrooms': '0',\n",
       "   'agent_logo': 'https://st.zoocdn.com/zoopla_static_agent_logo_(131837).png',\n",
       "   'price_change': [{'direction': '',\n",
       "     'date': '2019-10-23 15:35:19',\n",
       "     'percent': '0%',\n",
       "     'price': '40000000'}],\n",
       "   'agent_phone': '020 8022 5635',\n",
       "   'image_354_255_url': 'https://lid.zoocdn.com/354/255/0243efe25e1a35938824f1fed1300241cd8ae9ce.jpg',\n",
       "   'image_url': 'https://lid.zoocdn.com/354/255/0243efe25e1a35938824f1fed1300241cd8ae9ce.jpg',\n",
       "   'last_published_date': '2019-11-13 09:36:46'},\n",
       "  {'country_code': 'gb',\n",
       "   'num_floors': '0',\n",
       "   'image_150_113_url': 'https://lid.zoocdn.com/150/113/5c5d6612875e3b3851655f75bde5748777ef1b49.jpg',\n",
       "   'listing_status': 'sale',\n",
       "   'num_bedrooms': '10',\n",
       "   'location_is_approximate': 0,\n",
       "   'image_50_38_url': 'https://lid.zoocdn.com/50/38/5c5d6612875e3b3851655f75bde5748777ef1b49.jpg',\n",
       "   'latitude': 51.567356,\n",
       "   'furnished_state': None,\n",
       "   'agent_address': '77-79 Ebury Street, London',\n",
       "   'category': 'Residential',\n",
       "   'property_type': 'Detached house',\n",
       "   'letting_fees': 'Existing ast’s and all non ast’s - no administration fees!<br><br>Pet deposit: Returnable additional security deposit of two weeks rent.<br><h3 class=\"listing-desc-header top\"><strong>After you move in - inventory check-out</strong></h3><br>Dependent on the number of bedrooms and/or size of the property and outbuildings.<br><h3 class=\"listing-desc-header top\"><strong><br>Unfurnished flats<br>make check-in check-out comb make check-in</strong></h3><br>£ £ £ £<br>1 bed bed bed bed (+) quoted on an individual basis<br><h3 class=\"listing-desc-header top\"><strong><br>Unfurnished houses<br>make check-in check-out comb make check-in</strong></h3><br>£ £ £ £<br>1 bed bed bed bed (+) quoted on an individual basis<br><h3 class=\"listing-desc-header top\"><strong><br>Furnished flats<br>make check-in check-out comb make check-in</strong></h3><br>£ £ £ £<br>1 bed bed bed bed (+) quoted on an individual basis<br><h3 class=\"listing-desc-header top\"><strong><br>Furnished houses<br>make check-in check-out comb make check-in</strong></h3><br>£ £ £ £<br>1 bed bed bed bed (+) quoted on an individual basis<br><br>new ASTs signed on or after 1 June 2019<br>Holding Deposit (per tenancy) - One week’s rent.<br>Security Deposit (per tenancy rent under £50,000 per year) - Five week’s rent.<br>Security Deposit (per tenancy rent of £50,000 or over per year) - Six week’s rent.<br>Unpaid Rent - Interest at 0.75% above the Bank of England Base Rate as outlined in the Tenancy Agreement<br>Lost Key(s) or other Security Device(s) - Tenants are liable to the actual cost of replacing any lost key(s) or other security device(s). If the loss results in locks needing to be changed, the actual costs of a locksmith, new lock and replacement keys for the tenant, landlord any other persons requiring keys will be charged to the tenant.<br>Early Termination (Tenant’s Request) - Should the tenant wish to leave their contract early, they shall be liable to the landlord’s costs in re-letting the property as well as all rent due under the tenancy until the start date of the replacement tenancy. These costs will be no more than the maximum amount of rent outstanding on the tenancy.<br><br>UK Sotheby\\'s International Realty is a member of the Client Money Protection Scheme and our redress scheme for consumers is The Property Ombudsman.<br><h3 class=\"listing-desc-header top\"><strong><br></strong></h3>',\n",
       "   'longitude': -0.155018,\n",
       "   'thumbnail_url': 'https://lid.zoocdn.com/80/60/5c5d6612875e3b3851655f75bde5748777ef1b49.jpg',\n",
       "   'description': 'Exceptional contemporary mansion in HighgateLocated on a sought-after road in the heart of Highgate and occupying a two-acre site, a bespoke family home with the accommodation predominantly arranged over three floors with the benefit of a substantial, self-contained staff lodge. The luxurious entrance hall of this stunning home has a glass lift to each floor. From the impressive entrance hall, there is the formal sitting and dining room that overlooks the magnificent grounds, that opens onto the breakfast room and in turn opens onto the kitchen.On the first floor is the master suite with bathroom, four further suites each with en suite bathrooms whilst to the top floor there is a magnificent home office with panoramic views over the gardens and Hampstead Heath beyond. The leisure facilities have been thoughtfully designed and the swimming pool opens onto the garden whilst there are full spa facilities behind. There is also a home gymnasium and billiards room.The staff lodge extends to approximately 4,400 sq ft and there is garaging below for approximately four cars. The landscaped gardens are in excess of two acres and the gardens offer a serene oasis within this sought-after location with the additional benefit of a tennis court.',\n",
       "   'post_town': 'London',\n",
       "   'details_url': 'https://www.zoopla.co.uk/for-sale/details/53112425?utm_source=v1:-K2HGiLYWh3J-0Sob747rTb0NQU91rDW&utm_medium=api',\n",
       "   'short_description': 'Located on a sought-after road in the heart of Highgate and occupying a two-acre site, a bespoke family home with the accommodation predominantly arranged over three floors with the benefit of a substantial, self-contained staff lodge. (contd...)',\n",
       "   'outcode': 'N6',\n",
       "   'image_645_430_url': 'https://lid.zoocdn.com/645/430/5c5d6612875e3b3851655f75bde5748777ef1b49.jpg',\n",
       "   'county': 'London',\n",
       "   'price': 0,\n",
       "   'listing_id': '53112425',\n",
       "   'image_caption': 'Picture No. 82',\n",
       "   'image_80_60_url': 'https://lid.zoocdn.com/80/60/5c5d6612875e3b3851655f75bde5748777ef1b49.jpg',\n",
       "   'status': 'for_sale',\n",
       "   'agent_name': \"UK Sotheby's International Realty - London\",\n",
       "   'num_recepts': '0',\n",
       "   'country': 'England',\n",
       "   'first_published_date': '2019-10-22 22:08:40',\n",
       "   'displayable_address': 'Merton Lane, London N6',\n",
       "   'price_modifier': 'price_on_request',\n",
       "   'floor_plan': ['https://lc.zoocdn.com/2a206e3e7aa392c751df265f7793058598964998.jpg',\n",
       "    'https://lc.zoocdn.com/6ab70271046f367399e1db6cb18c5fc7a04edf4f.jpg',\n",
       "    'https://lc.zoocdn.com/b41fe8c5c94ce3ae3c7f3ab20543f75a594c6543.jpg',\n",
       "    'https://lc.zoocdn.com/b1097b4f8cd49db3f8f5ee84ba753b88bb719eb8.jpg'],\n",
       "   'street_name': 'London',\n",
       "   'num_bathrooms': '7',\n",
       "   'agent_logo': 'https://st.zoocdn.com/zoopla_static_agent_logo_(525633).png',\n",
       "   'price_change': [{'direction': '',\n",
       "     'date': '2019-10-22 17:45:04',\n",
       "     'percent': '0%',\n",
       "     'price': '40000000'}],\n",
       "   'agent_phone': '020 3589 1594',\n",
       "   'image_354_255_url': 'https://lid.zoocdn.com/354/255/5c5d6612875e3b3851655f75bde5748777ef1b49.jpg',\n",
       "   'image_url': 'https://lid.zoocdn.com/354/255/5c5d6612875e3b3851655f75bde5748777ef1b49.jpg',\n",
       "   'last_published_date': '2019-10-24 22:30:42'},\n",
       "  {'country_code': 'gb',\n",
       "   'num_floors': '0',\n",
       "   'image_150_113_url': 'https://lid.zoocdn.com/150/113/1e3a18fe435f10fdc382cb10f350800daf64fa03.jpg',\n",
       "   'listing_status': 'sale',\n",
       "   'num_bedrooms': '98',\n",
       "   'location_is_approximate': 0,\n",
       "   'image_50_38_url': 'https://lid.zoocdn.com/50/38/1e3a18fe435f10fdc382cb10f350800daf64fa03.jpg',\n",
       "   'latitude': 51.49218,\n",
       "   'furnished_state': None,\n",
       "   'agent_address': '106 Great Portland Street, London',\n",
       "   'category': 'Residential',\n",
       "   'property_type': '',\n",
       "   'letting_fees': 'Before the tenancy starts (payable to [The Cloister] ‘the Agent’)<br>Holding Deposit: 1 week’s rent<br>Deposit: 5 weeks’ rent or if over £50,000 it will be 6 weeks rentDuring the tenancy (payable to the Agent)Payment of £50.00 if you want to change the tenancy agreementPayment of £50.00 for the reasonably incurred costs for the loss of keys/security devicesPayment of any unpaid rent or other reasonable costs associated with your early termination of the tenancy',\n",
       "   'longitude': -0.19006,\n",
       "   'thumbnail_url': 'https://lid.zoocdn.com/80/60/1e3a18fe435f10fdc382cb10f350800daf64fa03.jpg',\n",
       "   'description': \"An excellent investment opportunity consisting of a portfolio of four period buildings with a combined total gia of 30,199 square feet. The portfolio is currently operated as a hostel with 98 rooms (440 beds). One of these buildings has planning permission (already activated) to convert to seven apartments with a total gia of 7,572 square feet. Subject to the necessary planning permissions, the site offers excellent development potential including conversion to residential apartments, serviced apartments or purpose-built student accommodation.The portfolio is ideally situated in the heart of prestigious South Kensington, widely recognised as one of London's finest addresses and is perfectly located for the sites and amenities of Kensington, Knightsbridge, Notting Hill and Chelsea. A short distance away are the Natural History, Science, and Victoria and Albert museums, the Royal Albert Hall, Hyde Park, the famous Portobello Road market, Harrods, Harvey Nicolls and flagship stores of many of the world's leading fashion houses. Travel into central London and the West End is quick and easy with Earl's Court London Underground station close by together with an excellent bus service.\",\n",
       "   'post_town': 'London',\n",
       "   'details_url': 'https://www.zoopla.co.uk/for-sale/details/52111230?utm_source=v1:-K2HGiLYWh3J-0Sob747rTb0NQU91rDW&utm_medium=api',\n",
       "   'short_description': 'An excellent investment opportunity consisting of a portfolio of four period buildings with a combined gia of 30,199 square feet',\n",
       "   'outcode': 'SW5',\n",
       "   'image_645_430_url': 'https://lid.zoocdn.com/645/430/1e3a18fe435f10fdc382cb10f350800daf64fa03.jpg',\n",
       "   'county': 'London',\n",
       "   'price': '38000000',\n",
       "   'listing_id': '52111230',\n",
       "   'image_caption': '',\n",
       "   'image_80_60_url': 'https://lid.zoocdn.com/80/60/1e3a18fe435f10fdc382cb10f350800daf64fa03.jpg',\n",
       "   'status': 'for_sale',\n",
       "   'agent_name': 'The Cloister',\n",
       "   'num_recepts': '0',\n",
       "   'country': 'England',\n",
       "   'first_published_date': '2019-07-16 12:45:03',\n",
       "   'displayable_address': 'Barkston Gardens, London SW5',\n",
       "   'street_name': 'Courtfield Gardens',\n",
       "   'num_bathrooms': '0',\n",
       "   'agent_logo': 'https://st.zoocdn.com/zoopla_static_agent_logo_(59012).jpeg',\n",
       "   'price_change': [{'direction': '',\n",
       "     'date': '2019-07-16 11:41:01',\n",
       "     'percent': '0%',\n",
       "     'price': '35000000'},\n",
       "    {'direction': 'up',\n",
       "     'date': '2019-11-12 18:01:35',\n",
       "     'percent': '8.5%',\n",
       "     'price': '38000000'}],\n",
       "   'agent_phone': '020 8115 9868',\n",
       "   'image_354_255_url': 'https://lid.zoocdn.com/354/255/1e3a18fe435f10fdc382cb10f350800daf64fa03.jpg',\n",
       "   'image_url': 'https://lid.zoocdn.com/354/255/1e3a18fe435f10fdc382cb10f350800daf64fa03.jpg',\n",
       "   'last_published_date': '2019-11-27 10:17:14',\n",
       "   'price_change_summary': {'direction': 'up',\n",
       "    'percent': '8.5%',\n",
       "    'last_updated_date': '2019-11-12 18:01:35'}}],\n",
       " 'street': '',\n",
       " 'town': '',\n",
       " 'latitude': 51.4848955,\n",
       " 'county': 'London',\n",
       " 'bounding_box': {'longitude_min': '-0.529094',\n",
       "  'latitude_min': '51.277293',\n",
       "  'longitude_max': '0.159807',\n",
       "  'latitude_max': '51.692498'},\n",
       " 'postcode': ''}"
      ]
     },
     "execution_count": 130,
     "metadata": {},
     "output_type": "execute_result"
    }
   ],
   "source": [
    "my_data"
   ]
  },
  {
   "cell_type": "code",
   "execution_count": 105,
   "metadata": {},
   "outputs": [
    {
     "data": {
      "text/plain": [
       "'2019-07-16 12:45:03'"
      ]
     },
     "execution_count": 105,
     "metadata": {},
     "output_type": "execute_result"
    }
   ],
   "source": [
    "data['listing'][9]['first_published_date']"
   ]
  },
  {
   "cell_type": "code",
   "execution_count": 77,
   "metadata": {},
   "outputs": [
    {
     "name": "stdout",
     "output_type": "stream",
     "text": [
      "country\n",
      "result_count\n",
      "longitude\n",
      "area_name\n",
      "listing\n",
      "street\n",
      "town\n",
      "latitude\n",
      "county\n",
      "bounding_box\n",
      "postcode\n"
     ]
    }
   ],
   "source": [
    "for i in data:\n",
    "    print(i)"
   ]
  },
  {
   "cell_type": "code",
   "execution_count": 91,
   "metadata": {},
   "outputs": [
    {
     "data": {
      "text/plain": [
       "10"
      ]
     },
     "execution_count": 91,
     "metadata": {},
     "output_type": "execute_result"
    }
   ],
   "source": [
    "len(data['listing'])"
   ]
  },
  {
   "cell_type": "code",
   "execution_count": 92,
   "metadata": {},
   "outputs": [
    {
     "data": {
      "text/plain": [
       "{'country_code': 'gb',\n",
       " 'num_floors': '6',\n",
       " 'image_150_113_url': 'https://lid.zoocdn.com/150/113/0d4f63d83077588bf82306da9c853e793d24152d.jpg',\n",
       " 'listing_status': 'sale',\n",
       " 'num_bedrooms': '0',\n",
       " 'location_is_approximate': 0,\n",
       " 'image_50_38_url': 'https://lid.zoocdn.com/50/38/0d4f63d83077588bf82306da9c853e793d24152d.jpg',\n",
       " 'latitude': 51.512596,\n",
       " 'furnished_state': None,\n",
       " 'agent_address': '50 Old Church Street, Chelsea',\n",
       " 'category': 'Residential',\n",
       " 'property_type': 'Block of flats',\n",
       " 'letting_fees': 'Standard fees:<br>Administration fee: £350 incl VAT per tenancy agreement per long let<br>£150 incl VAT per tenancy agreement for short let<br>Tenant or Guarantor referencing fee: £60 incl VAT per tenant or guarantor<br>Tenancy renewal fee: £120 incl VAT per renewal<br>Contribution to Inventory cost: £130 incl VAT',\n",
       " 'longitude': -0.172754,\n",
       " 'floor_area': {'min_floor_area': {'value': '110000', 'units': 'sq_feet'}},\n",
       " 'thumbnail_url': 'https://lid.zoocdn.com/80/60/0d4f63d83077588bf82306da9c853e793d24152d.jpg',\n",
       " 'description': 'London W2Excellent opportunity to acquiry this substantial stucco fronted corner building with panoramic views of Hyde Park.This building is arranged over five floors and basements.Moments to Hyde Park, Queensway and Bayswater Underground Stations and within easy reach of the many excellent shopping, restaurants, banks and transport facilities of Oxford Street and West End.FreeholdAsking price: £225million. Subject to ContractBrochure and information on request',\n",
       " 'post_town': 'London',\n",
       " 'details_url': 'https://www.zoopla.co.uk/for-sale/details/52686069?utm_source=v1:-K2HGiLYWh3J-0Sob747rTb0NQU91rDW&utm_medium=api',\n",
       " 'short_description': 'Great rental investmentopportunity in hyde park. W2. Close to bayswater, queensway, oxford street.',\n",
       " 'outcode': 'W2',\n",
       " 'image_645_430_url': 'https://lid.zoocdn.com/645/430/0d4f63d83077588bf82306da9c853e793d24152d.jpg',\n",
       " 'county': 'London',\n",
       " 'price': '225000000',\n",
       " 'listing_id': '52686069',\n",
       " 'image_caption': '',\n",
       " 'image_80_60_url': 'https://lid.zoocdn.com/80/60/0d4f63d83077588bf82306da9c853e793d24152d.jpg',\n",
       " 'status': 'for_sale',\n",
       " 'agent_name': 'Panther International Properties',\n",
       " 'num_recepts': '6',\n",
       " 'country': 'England',\n",
       " 'first_published_date': '2019-09-11 15:36:40',\n",
       " 'displayable_address': 'Hyde Park, London W2',\n",
       " 'price_modifier': 'guide_price',\n",
       " 'street_name': 'Hyde Park',\n",
       " 'num_bathrooms': '0',\n",
       " 'agent_logo': 'https://st.zoocdn.com/zoopla_static_agent_logo_(311432).png',\n",
       " 'price_change': [{'direction': '',\n",
       "   'date': '2019-09-11 15:35:10',\n",
       "   'percent': '0%',\n",
       "   'price': '225000000'}],\n",
       " 'agent_phone': '020 8115 2521',\n",
       " 'image_354_255_url': 'https://lid.zoocdn.com/354/255/0d4f63d83077588bf82306da9c853e793d24152d.jpg',\n",
       " 'image_url': 'https://lid.zoocdn.com/354/255/0d4f63d83077588bf82306da9c853e793d24152d.jpg',\n",
       " 'last_published_date': '2019-10-20 21:33:12'}"
      ]
     },
     "execution_count": 92,
     "metadata": {},
     "output_type": "execute_result"
    }
   ],
   "source": [
    "data['listing'][0]"
   ]
  },
  {
   "cell_type": "code",
   "execution_count": 128,
   "metadata": {},
   "outputs": [
    {
     "data": {
      "text/plain": [
       "'40000000'"
      ]
     },
     "execution_count": 128,
     "metadata": {},
     "output_type": "execute_result"
    }
   ],
   "source": [
    "data['listing'][7]['price']"
   ]
  },
  {
   "cell_type": "code",
   "execution_count": 143,
   "metadata": {},
   "outputs": [],
   "source": [
    "url_2 = requests.get('http://api.zoopla.co.uk/api/v1/property_listings.json?area=London&api_key=przuwqccjkdgg488mrqq5rpy').json"
   ]
  },
  {
   "cell_type": "code",
   "execution_count": 145,
   "metadata": {},
   "outputs": [
    {
     "data": {
      "text/plain": [
       "<bound method Response.json of <Response [403]>>"
      ]
     },
     "execution_count": 145,
     "metadata": {},
     "output_type": "execute_result"
    }
   ],
   "source": [
    "url_2"
   ]
  },
  {
   "cell_type": "code",
   "execution_count": 146,
   "metadata": {},
   "outputs": [],
   "source": [
    "url_2= requests.get('http://api.zoopla.co.uk/przuwqccjkdgg488mrqq5rpy/v1/')"
   ]
  },
  {
   "cell_type": "code",
   "execution_count": null,
   "metadata": {},
   "outputs": [],
   "source": []
  }
 ],
 "metadata": {
  "kernelspec": {
   "display_name": "Python 3",
   "language": "python",
   "name": "python3"
  },
  "language_info": {
   "codemirror_mode": {
    "name": "ipython",
    "version": 3
   },
   "file_extension": ".py",
   "mimetype": "text/x-python",
   "name": "python",
   "nbconvert_exporter": "python",
   "pygments_lexer": "ipython3",
   "version": "3.7.1"
  }
 },
 "nbformat": 4,
 "nbformat_minor": 2
}
